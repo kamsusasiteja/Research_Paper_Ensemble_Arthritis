{
  "nbformat": 4,
  "nbformat_minor": 0,
  "metadata": {
    "colab": {
      "name": "Ensemble_2.ipynb",
      "provenance": []
    },
    "kernelspec": {
      "name": "python3",
      "display_name": "Python 3"
    }
  },
  "cells": [
    {
      "cell_type": "code",
      "metadata": {
        "id": "C2Q2RuF7qZCA",
        "colab_type": "code",
        "colab": {}
      },
      "source": [
        "import pandas as pd\n",
        "import numpy as np\n",
        "from sklearn.model_selection import GridSearchCV\n",
        "from sklearn.neighbors import KNeighborsClassifier\n",
        "from sklearn.ensemble import VotingClassifier, RandomForestClassifier\n",
        "from sklearn.linear_model import LogisticRegression\n",
        "from sklearn.model_selection import train_test_split"
      ],
      "execution_count": 49,
      "outputs": []
    },
    {
      "cell_type": "code",
      "metadata": {
        "id": "UfTPJvpGqk0b",
        "colab_type": "code",
        "colab": {
          "base_uri": "https://localhost:8080/",
          "height": 54
        },
        "outputId": "fcfb1dbf-e2b8-49a7-cd9f-736c730ec286"
      },
      "source": [
        "from google.colab import drive\n",
        "drive.mount('/content/gdrive')"
      ],
      "execution_count": 50,
      "outputs": [
        {
          "output_type": "stream",
          "text": [
            "Drive already mounted at /content/gdrive; to attempt to forcibly remount, call drive.mount(\"/content/gdrive\", force_remount=True).\n"
          ],
          "name": "stdout"
        }
      ]
    },
    {
      "cell_type": "code",
      "metadata": {
        "id": "crfGFygArdZW",
        "colab_type": "code",
        "colab": {}
      },
      "source": [
        "df=pd.read_csv('/content/gdrive/My Drive/updated.csv')"
      ],
      "execution_count": 51,
      "outputs": []
    },
    {
      "cell_type": "code",
      "metadata": {
        "id": "LSZGJW6hrq1R",
        "colab_type": "code",
        "colab": {
          "base_uri": "https://localhost:8080/",
          "height": 408
        },
        "outputId": "9479f1ec-cf4e-466f-a33c-67f08f67e104"
      },
      "source": [
        "df"
      ],
      "execution_count": 52,
      "outputs": [
        {
          "output_type": "execute_result",
          "data": {
            "text/html": [
              "<div>\n",
              "<style scoped>\n",
              "    .dataframe tbody tr th:only-of-type {\n",
              "        vertical-align: middle;\n",
              "    }\n",
              "\n",
              "    .dataframe tbody tr th {\n",
              "        vertical-align: top;\n",
              "    }\n",
              "\n",
              "    .dataframe thead th {\n",
              "        text-align: right;\n",
              "    }\n",
              "</style>\n",
              "<table border=\"1\" class=\"dataframe\">\n",
              "  <thead>\n",
              "    <tr style=\"text-align: right;\">\n",
              "      <th></th>\n",
              "      <th>id</th>\n",
              "      <th>pelvic_incidence</th>\n",
              "      <th>pelvic_tilt</th>\n",
              "      <th>lumbar_lordosis_angle</th>\n",
              "      <th>sacral_slope</th>\n",
              "      <th>pelvic_radius</th>\n",
              "      <th>degree_spondylolisthesis</th>\n",
              "      <th>class</th>\n",
              "    </tr>\n",
              "  </thead>\n",
              "  <tbody>\n",
              "    <tr>\n",
              "      <th>0</th>\n",
              "      <td>1</td>\n",
              "      <td>63.027818</td>\n",
              "      <td>22.552586</td>\n",
              "      <td>39.609117</td>\n",
              "      <td>40.475232</td>\n",
              "      <td>98.672917</td>\n",
              "      <td>-0.254400</td>\n",
              "      <td>Abnormal</td>\n",
              "    </tr>\n",
              "    <tr>\n",
              "      <th>1</th>\n",
              "      <td>2</td>\n",
              "      <td>39.056951</td>\n",
              "      <td>10.060991</td>\n",
              "      <td>25.015378</td>\n",
              "      <td>28.995960</td>\n",
              "      <td>114.405425</td>\n",
              "      <td>4.564259</td>\n",
              "      <td>Abnormal</td>\n",
              "    </tr>\n",
              "    <tr>\n",
              "      <th>2</th>\n",
              "      <td>3</td>\n",
              "      <td>68.832021</td>\n",
              "      <td>22.218482</td>\n",
              "      <td>50.092194</td>\n",
              "      <td>46.613539</td>\n",
              "      <td>105.985135</td>\n",
              "      <td>-3.530317</td>\n",
              "      <td>Abnormal</td>\n",
              "    </tr>\n",
              "    <tr>\n",
              "      <th>3</th>\n",
              "      <td>4</td>\n",
              "      <td>69.297008</td>\n",
              "      <td>24.652878</td>\n",
              "      <td>44.311238</td>\n",
              "      <td>44.644130</td>\n",
              "      <td>101.868495</td>\n",
              "      <td>11.211523</td>\n",
              "      <td>Abnormal</td>\n",
              "    </tr>\n",
              "    <tr>\n",
              "      <th>4</th>\n",
              "      <td>5</td>\n",
              "      <td>49.712859</td>\n",
              "      <td>9.652075</td>\n",
              "      <td>28.317406</td>\n",
              "      <td>40.060784</td>\n",
              "      <td>108.168725</td>\n",
              "      <td>7.918501</td>\n",
              "      <td>Abnormal</td>\n",
              "    </tr>\n",
              "    <tr>\n",
              "      <th>...</th>\n",
              "      <td>...</td>\n",
              "      <td>...</td>\n",
              "      <td>...</td>\n",
              "      <td>...</td>\n",
              "      <td>...</td>\n",
              "      <td>...</td>\n",
              "      <td>...</td>\n",
              "      <td>...</td>\n",
              "    </tr>\n",
              "    <tr>\n",
              "      <th>615</th>\n",
              "      <td>616</td>\n",
              "      <td>80.111572</td>\n",
              "      <td>33.942432</td>\n",
              "      <td>85.101608</td>\n",
              "      <td>46.169139</td>\n",
              "      <td>125.593624</td>\n",
              "      <td>100.292107</td>\n",
              "      <td>Spondylolisthesis</td>\n",
              "    </tr>\n",
              "    <tr>\n",
              "      <th>616</th>\n",
              "      <td>617</td>\n",
              "      <td>95.480229</td>\n",
              "      <td>46.550053</td>\n",
              "      <td>59.000000</td>\n",
              "      <td>48.930176</td>\n",
              "      <td>96.683903</td>\n",
              "      <td>77.283072</td>\n",
              "      <td>Spondylolisthesis</td>\n",
              "    </tr>\n",
              "    <tr>\n",
              "      <th>617</th>\n",
              "      <td>618</td>\n",
              "      <td>74.094731</td>\n",
              "      <td>18.823727</td>\n",
              "      <td>76.032156</td>\n",
              "      <td>55.271004</td>\n",
              "      <td>128.405731</td>\n",
              "      <td>73.388216</td>\n",
              "      <td>Spondylolisthesis</td>\n",
              "    </tr>\n",
              "    <tr>\n",
              "      <th>618</th>\n",
              "      <td>619</td>\n",
              "      <td>87.679087</td>\n",
              "      <td>20.365613</td>\n",
              "      <td>93.822416</td>\n",
              "      <td>67.313473</td>\n",
              "      <td>120.944829</td>\n",
              "      <td>76.730629</td>\n",
              "      <td>Spondylolisthesis</td>\n",
              "    </tr>\n",
              "    <tr>\n",
              "      <th>619</th>\n",
              "      <td>620</td>\n",
              "      <td>48.259920</td>\n",
              "      <td>16.417462</td>\n",
              "      <td>36.329137</td>\n",
              "      <td>31.842457</td>\n",
              "      <td>94.882336</td>\n",
              "      <td>28.343799</td>\n",
              "      <td>Spondylolisthesis</td>\n",
              "    </tr>\n",
              "  </tbody>\n",
              "</table>\n",
              "<p>620 rows × 8 columns</p>\n",
              "</div>"
            ],
            "text/plain": [
              "      id  pelvic_incidence  ...  degree_spondylolisthesis              class\n",
              "0      1         63.027818  ...                 -0.254400           Abnormal\n",
              "1      2         39.056951  ...                  4.564259           Abnormal\n",
              "2      3         68.832021  ...                 -3.530317           Abnormal\n",
              "3      4         69.297008  ...                 11.211523           Abnormal\n",
              "4      5         49.712859  ...                  7.918501           Abnormal\n",
              "..   ...               ...  ...                       ...                ...\n",
              "615  616         80.111572  ...                100.292107  Spondylolisthesis\n",
              "616  617         95.480229  ...                 77.283072  Spondylolisthesis\n",
              "617  618         74.094731  ...                 73.388216  Spondylolisthesis\n",
              "618  619         87.679087  ...                 76.730629  Spondylolisthesis\n",
              "619  620         48.259920  ...                 28.343799  Spondylolisthesis\n",
              "\n",
              "[620 rows x 8 columns]"
            ]
          },
          "metadata": {
            "tags": []
          },
          "execution_count": 52
        }
      ]
    },
    {
      "cell_type": "code",
      "metadata": {
        "id": "K1LvDx7srtFG",
        "colab_type": "code",
        "colab": {
          "base_uri": "https://localhost:8080/",
          "height": 388
        },
        "outputId": "5391b358-bfcd-4cee-fd96-9fde784cb6f4"
      },
      "source": [
        "from sklearn.preprocessing import LabelEncoder,OneHotEncoder\n",
        "labenc=LabelEncoder()    #label or indexing of categorical data\n",
        "df[\"class\"]=labenc.fit_transform(df[\"class\"])   \n",
        "df"
      ],
      "execution_count": 53,
      "outputs": [
        {
          "output_type": "execute_result",
          "data": {
            "text/html": [
              "<div>\n",
              "<style scoped>\n",
              "    .dataframe tbody tr th:only-of-type {\n",
              "        vertical-align: middle;\n",
              "    }\n",
              "\n",
              "    .dataframe tbody tr th {\n",
              "        vertical-align: top;\n",
              "    }\n",
              "\n",
              "    .dataframe thead th {\n",
              "        text-align: right;\n",
              "    }\n",
              "</style>\n",
              "<table border=\"1\" class=\"dataframe\">\n",
              "  <thead>\n",
              "    <tr style=\"text-align: right;\">\n",
              "      <th></th>\n",
              "      <th>id</th>\n",
              "      <th>pelvic_incidence</th>\n",
              "      <th>pelvic_tilt</th>\n",
              "      <th>lumbar_lordosis_angle</th>\n",
              "      <th>sacral_slope</th>\n",
              "      <th>pelvic_radius</th>\n",
              "      <th>degree_spondylolisthesis</th>\n",
              "      <th>class</th>\n",
              "    </tr>\n",
              "  </thead>\n",
              "  <tbody>\n",
              "    <tr>\n",
              "      <th>0</th>\n",
              "      <td>1</td>\n",
              "      <td>63.027818</td>\n",
              "      <td>22.552586</td>\n",
              "      <td>39.609117</td>\n",
              "      <td>40.475232</td>\n",
              "      <td>98.672917</td>\n",
              "      <td>-0.254400</td>\n",
              "      <td>0</td>\n",
              "    </tr>\n",
              "    <tr>\n",
              "      <th>1</th>\n",
              "      <td>2</td>\n",
              "      <td>39.056951</td>\n",
              "      <td>10.060991</td>\n",
              "      <td>25.015378</td>\n",
              "      <td>28.995960</td>\n",
              "      <td>114.405425</td>\n",
              "      <td>4.564259</td>\n",
              "      <td>0</td>\n",
              "    </tr>\n",
              "    <tr>\n",
              "      <th>2</th>\n",
              "      <td>3</td>\n",
              "      <td>68.832021</td>\n",
              "      <td>22.218482</td>\n",
              "      <td>50.092194</td>\n",
              "      <td>46.613539</td>\n",
              "      <td>105.985135</td>\n",
              "      <td>-3.530317</td>\n",
              "      <td>0</td>\n",
              "    </tr>\n",
              "    <tr>\n",
              "      <th>3</th>\n",
              "      <td>4</td>\n",
              "      <td>69.297008</td>\n",
              "      <td>24.652878</td>\n",
              "      <td>44.311238</td>\n",
              "      <td>44.644130</td>\n",
              "      <td>101.868495</td>\n",
              "      <td>11.211523</td>\n",
              "      <td>0</td>\n",
              "    </tr>\n",
              "    <tr>\n",
              "      <th>4</th>\n",
              "      <td>5</td>\n",
              "      <td>49.712859</td>\n",
              "      <td>9.652075</td>\n",
              "      <td>28.317406</td>\n",
              "      <td>40.060784</td>\n",
              "      <td>108.168725</td>\n",
              "      <td>7.918501</td>\n",
              "      <td>0</td>\n",
              "    </tr>\n",
              "    <tr>\n",
              "      <th>...</th>\n",
              "      <td>...</td>\n",
              "      <td>...</td>\n",
              "      <td>...</td>\n",
              "      <td>...</td>\n",
              "      <td>...</td>\n",
              "      <td>...</td>\n",
              "      <td>...</td>\n",
              "      <td>...</td>\n",
              "    </tr>\n",
              "    <tr>\n",
              "      <th>615</th>\n",
              "      <td>616</td>\n",
              "      <td>80.111572</td>\n",
              "      <td>33.942432</td>\n",
              "      <td>85.101608</td>\n",
              "      <td>46.169139</td>\n",
              "      <td>125.593624</td>\n",
              "      <td>100.292107</td>\n",
              "      <td>3</td>\n",
              "    </tr>\n",
              "    <tr>\n",
              "      <th>616</th>\n",
              "      <td>617</td>\n",
              "      <td>95.480229</td>\n",
              "      <td>46.550053</td>\n",
              "      <td>59.000000</td>\n",
              "      <td>48.930176</td>\n",
              "      <td>96.683903</td>\n",
              "      <td>77.283072</td>\n",
              "      <td>3</td>\n",
              "    </tr>\n",
              "    <tr>\n",
              "      <th>617</th>\n",
              "      <td>618</td>\n",
              "      <td>74.094731</td>\n",
              "      <td>18.823727</td>\n",
              "      <td>76.032156</td>\n",
              "      <td>55.271004</td>\n",
              "      <td>128.405731</td>\n",
              "      <td>73.388216</td>\n",
              "      <td>3</td>\n",
              "    </tr>\n",
              "    <tr>\n",
              "      <th>618</th>\n",
              "      <td>619</td>\n",
              "      <td>87.679087</td>\n",
              "      <td>20.365613</td>\n",
              "      <td>93.822416</td>\n",
              "      <td>67.313473</td>\n",
              "      <td>120.944829</td>\n",
              "      <td>76.730629</td>\n",
              "      <td>3</td>\n",
              "    </tr>\n",
              "    <tr>\n",
              "      <th>619</th>\n",
              "      <td>620</td>\n",
              "      <td>48.259920</td>\n",
              "      <td>16.417462</td>\n",
              "      <td>36.329137</td>\n",
              "      <td>31.842457</td>\n",
              "      <td>94.882336</td>\n",
              "      <td>28.343799</td>\n",
              "      <td>3</td>\n",
              "    </tr>\n",
              "  </tbody>\n",
              "</table>\n",
              "<p>620 rows × 8 columns</p>\n",
              "</div>"
            ],
            "text/plain": [
              "      id  pelvic_incidence  ...  degree_spondylolisthesis  class\n",
              "0      1         63.027818  ...                 -0.254400      0\n",
              "1      2         39.056951  ...                  4.564259      0\n",
              "2      3         68.832021  ...                 -3.530317      0\n",
              "3      4         69.297008  ...                 11.211523      0\n",
              "4      5         49.712859  ...                  7.918501      0\n",
              "..   ...               ...  ...                       ...    ...\n",
              "615  616         80.111572  ...                100.292107      3\n",
              "616  617         95.480229  ...                 77.283072      3\n",
              "617  618         74.094731  ...                 73.388216      3\n",
              "618  619         87.679087  ...                 76.730629      3\n",
              "619  620         48.259920  ...                 28.343799      3\n",
              "\n",
              "[620 rows x 8 columns]"
            ]
          },
          "metadata": {
            "tags": []
          },
          "execution_count": 53
        }
      ]
    },
    {
      "cell_type": "code",
      "metadata": {
        "id": "FF-a0zFmslwW",
        "colab_type": "code",
        "colab": {
          "base_uri": "https://localhost:8080/",
          "height": 106
        },
        "outputId": "93cfa394-c7c0-45ba-e15b-449c92847e06"
      },
      "source": [
        "df['class'].value_counts()"
      ],
      "execution_count": 54,
      "outputs": [
        {
          "output_type": "execute_result",
          "data": {
            "text/plain": [
              "0    210\n",
              "2    200\n",
              "3    150\n",
              "1     60\n",
              "Name: class, dtype: int64"
            ]
          },
          "metadata": {
            "tags": []
          },
          "execution_count": 54
        }
      ]
    },
    {
      "cell_type": "code",
      "metadata": {
        "id": "63zkfQx_sppT",
        "colab_type": "code",
        "colab": {}
      },
      "source": [
        "X = df.drop(columns = ['class'])\n",
        "y = df['class']"
      ],
      "execution_count": 55,
      "outputs": []
    },
    {
      "cell_type": "code",
      "metadata": {
        "id": "JG3fs8pJs0ab",
        "colab_type": "code",
        "colab": {}
      },
      "source": [
        "X_train, X_test, y_train, y_test = train_test_split(X, y, test_size=0.3, stratify=y)"
      ],
      "execution_count": 56,
      "outputs": []
    },
    {
      "cell_type": "code",
      "metadata": {
        "id": "1rf3cJZ1s4yP",
        "colab_type": "code",
        "colab": {
          "base_uri": "https://localhost:8080/",
          "height": 214
        },
        "outputId": "72da26ad-398f-4ecb-f6b6-0c2b7ea4ef39"
      },
      "source": [
        "knn = KNeighborsClassifier()\n",
        "params_knn = {'n_neighbors': np.arange(1, 25)}\n",
        "knn_gs = GridSearchCV(knn, params_knn, cv=5)\n",
        "knn_gs.fit(X_train, y_train)"
      ],
      "execution_count": 57,
      "outputs": [
        {
          "output_type": "execute_result",
          "data": {
            "text/plain": [
              "GridSearchCV(cv=5, error_score=nan,\n",
              "             estimator=KNeighborsClassifier(algorithm='auto', leaf_size=30,\n",
              "                                            metric='minkowski',\n",
              "                                            metric_params=None, n_jobs=None,\n",
              "                                            n_neighbors=5, p=2,\n",
              "                                            weights='uniform'),\n",
              "             iid='deprecated', n_jobs=None,\n",
              "             param_grid={'n_neighbors': array([ 1,  2,  3,  4,  5,  6,  7,  8,  9, 10, 11, 12, 13, 14, 15, 16, 17,\n",
              "       18, 19, 20, 21, 22, 23, 24])},\n",
              "             pre_dispatch='2*n_jobs', refit=True, return_train_score=False,\n",
              "             scoring=None, verbose=0)"
            ]
          },
          "metadata": {
            "tags": []
          },
          "execution_count": 57
        }
      ]
    },
    {
      "cell_type": "code",
      "metadata": {
        "id": "_ptUegDvtFtF",
        "colab_type": "code",
        "colab": {
          "base_uri": "https://localhost:8080/",
          "height": 34
        },
        "outputId": "7a0aa6e6-5d60-4f48-e8e4-9c93c1e612b3"
      },
      "source": [
        "#save best model\n",
        "knn_best = knn_gs.best_estimator_\n",
        "\n",
        "#check best n_neigbors value\n",
        "print(knn_gs.best_params_)"
      ],
      "execution_count": 58,
      "outputs": [
        {
          "output_type": "stream",
          "text": [
            "{'n_neighbors': 7}\n"
          ],
          "name": "stdout"
        }
      ]
    },
    {
      "cell_type": "code",
      "metadata": {
        "id": "aLqDFfsitNa5",
        "colab_type": "code",
        "colab": {
          "base_uri": "https://localhost:8080/",
          "height": 376
        },
        "outputId": "4b6d47ed-3232-41d6-aef6-712fcfd8cdc4"
      },
      "source": [
        "#create a new rf classifier\n",
        "rf = RandomForestClassifier()\n",
        "\n",
        "#create a dictionary of all values we want to test for n_estimators\n",
        "params_rf = {'n_estimators': [50, 100, 200]}\n",
        "\n",
        "#use gridsearch to test all values for n_estimators\n",
        "rf_gs = GridSearchCV(rf, params_rf, cv=5)\n",
        "\n",
        "#fit model to training data\n",
        "rf_gs.fit(X_train, y_train)"
      ],
      "execution_count": 59,
      "outputs": [
        {
          "output_type": "execute_result",
          "data": {
            "text/plain": [
              "GridSearchCV(cv=5, error_score=nan,\n",
              "             estimator=RandomForestClassifier(bootstrap=True, ccp_alpha=0.0,\n",
              "                                              class_weight=None,\n",
              "                                              criterion='gini', max_depth=None,\n",
              "                                              max_features='auto',\n",
              "                                              max_leaf_nodes=None,\n",
              "                                              max_samples=None,\n",
              "                                              min_impurity_decrease=0.0,\n",
              "                                              min_impurity_split=None,\n",
              "                                              min_samples_leaf=1,\n",
              "                                              min_samples_split=2,\n",
              "                                              min_weight_fraction_leaf=0.0,\n",
              "                                              n_estimators=100, n_jobs=None,\n",
              "                                              oob_score=False,\n",
              "                                              random_state=None, verbose=0,\n",
              "                                              warm_start=False),\n",
              "             iid='deprecated', n_jobs=None,\n",
              "             param_grid={'n_estimators': [50, 100, 200]},\n",
              "             pre_dispatch='2*n_jobs', refit=True, return_train_score=False,\n",
              "             scoring=None, verbose=0)"
            ]
          },
          "metadata": {
            "tags": []
          },
          "execution_count": 59
        }
      ]
    },
    {
      "cell_type": "code",
      "metadata": {
        "id": "JagvJ-aJtWLr",
        "colab_type": "code",
        "colab": {
          "base_uri": "https://localhost:8080/",
          "height": 34
        },
        "outputId": "4abd35c0-8209-409e-eb8a-8e29fff77584"
      },
      "source": [
        "#save best model\n",
        "rf_best = rf_gs.best_estimator_\n",
        "\n",
        "#check best n_estimators value\n",
        "print(rf_gs.best_params_)"
      ],
      "execution_count": 60,
      "outputs": [
        {
          "output_type": "stream",
          "text": [
            "{'n_estimators': 50}\n"
          ],
          "name": "stdout"
        }
      ]
    },
    {
      "cell_type": "code",
      "metadata": {
        "id": "5samItjmtaDg",
        "colab_type": "code",
        "colab": {
          "base_uri": "https://localhost:8080/",
          "height": 270
        },
        "outputId": "b17e6f86-7676-4ca0-f21a-87f64bf7a9f0"
      },
      "source": [
        "log_reg = LogisticRegression()\n",
        "\n",
        "#fit the model to the training data\n",
        "log_reg.fit(X_train, y_train)"
      ],
      "execution_count": 61,
      "outputs": [
        {
          "output_type": "stream",
          "text": [
            "/usr/local/lib/python3.6/dist-packages/sklearn/linear_model/_logistic.py:940: ConvergenceWarning: lbfgs failed to converge (status=1):\n",
            "STOP: TOTAL NO. of ITERATIONS REACHED LIMIT.\n",
            "\n",
            "Increase the number of iterations (max_iter) or scale the data as shown in:\n",
            "    https://scikit-learn.org/stable/modules/preprocessing.html\n",
            "Please also refer to the documentation for alternative solver options:\n",
            "    https://scikit-learn.org/stable/modules/linear_model.html#logistic-regression\n",
            "  extra_warning_msg=_LOGISTIC_SOLVER_CONVERGENCE_MSG)\n"
          ],
          "name": "stderr"
        },
        {
          "output_type": "execute_result",
          "data": {
            "text/plain": [
              "LogisticRegression(C=1.0, class_weight=None, dual=False, fit_intercept=True,\n",
              "                   intercept_scaling=1, l1_ratio=None, max_iter=100,\n",
              "                   multi_class='auto', n_jobs=None, penalty='l2',\n",
              "                   random_state=None, solver='lbfgs', tol=0.0001, verbose=0,\n",
              "                   warm_start=False)"
            ]
          },
          "metadata": {
            "tags": []
          },
          "execution_count": 61
        }
      ]
    },
    {
      "cell_type": "code",
      "metadata": {
        "id": "SNu7JKFdtdzX",
        "colab_type": "code",
        "colab": {
          "base_uri": "https://localhost:8080/",
          "height": 70
        },
        "outputId": "b93ee23e-cf40-4d74-a9c5-5dc14e681beb"
      },
      "source": [
        "print('knn: {}'.format(knn_best.score(X_test, y_test)))\n",
        "print('rf: {}'.format(rf_best.score(X_test, y_test)))\n",
        "print('log_reg: {}'.format(log_reg.score(X_test, y_test)))"
      ],
      "execution_count": 62,
      "outputs": [
        {
          "output_type": "stream",
          "text": [
            "knn: 0.9946236559139785\n",
            "rf: 0.9946236559139785\n",
            "log_reg: 0.956989247311828\n"
          ],
          "name": "stdout"
        }
      ]
    },
    {
      "cell_type": "code",
      "metadata": {
        "id": "Ep6fs-uGtjok",
        "colab_type": "code",
        "colab": {
          "base_uri": "https://localhost:8080/",
          "height": 198
        },
        "outputId": "2db9b8e3-7e87-4e5f-c6cd-d2eac1ead590"
      },
      "source": [
        "#create a dictionary of our models\n",
        "estimators=[('knn', knn_best), ('rf', rf_best), ('log_reg', log_reg)]\n",
        "\n",
        "#create our voting classifier, inputting our models\n",
        "ensemble = VotingClassifier(estimators, voting='hard')\n",
        "\n",
        "#fit model to training data\n",
        "ensemble.fit(X_train, y_train)\n",
        "\n",
        "#test our model on the test data\n",
        "ensemble.score(X_test, y_test)"
      ],
      "execution_count": 63,
      "outputs": [
        {
          "output_type": "stream",
          "text": [
            "/usr/local/lib/python3.6/dist-packages/sklearn/linear_model/_logistic.py:940: ConvergenceWarning: lbfgs failed to converge (status=1):\n",
            "STOP: TOTAL NO. of ITERATIONS REACHED LIMIT.\n",
            "\n",
            "Increase the number of iterations (max_iter) or scale the data as shown in:\n",
            "    https://scikit-learn.org/stable/modules/preprocessing.html\n",
            "Please also refer to the documentation for alternative solver options:\n",
            "    https://scikit-learn.org/stable/modules/linear_model.html#logistic-regression\n",
            "  extra_warning_msg=_LOGISTIC_SOLVER_CONVERGENCE_MSG)\n"
          ],
          "name": "stderr"
        },
        {
          "output_type": "execute_result",
          "data": {
            "text/plain": [
              "1.0"
            ]
          },
          "metadata": {
            "tags": []
          },
          "execution_count": 63
        }
      ]
    },
    {
      "cell_type": "code",
      "metadata": {
        "id": "_mGnifOytrrz",
        "colab_type": "code",
        "colab": {}
      },
      "source": [
        ""
      ],
      "execution_count": null,
      "outputs": []
    }
  ]
}