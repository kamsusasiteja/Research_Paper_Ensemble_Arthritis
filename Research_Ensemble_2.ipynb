{
  "nbformat": 4,
  "nbformat_minor": 0,
  "metadata": {
    "colab": {
      "name": "Research_Ensemble.ipynb",
      "provenance": []
    },
    "kernelspec": {
      "name": "python3",
      "display_name": "Python 3"
    }
  },
  "cells": [
    {
      "cell_type": "code",
      "metadata": {
        "id": "E6XY2uexWMts",
        "colab_type": "code",
        "colab": {
          "base_uri": "https://localhost:8080/",
          "height": 54
        },
        "outputId": "ba4f0c7d-eac8-40fb-d8b8-e81e836037aa"
      },
      "source": [
        "from google.colab import drive\n",
        "drive.mount('/content/gdrive')"
      ],
      "execution_count": 112,
      "outputs": [
        {
          "output_type": "stream",
          "text": [
            "Drive already mounted at /content/gdrive; to attempt to forcibly remount, call drive.mount(\"/content/gdrive\", force_remount=True).\n"
          ],
          "name": "stdout"
        }
      ]
    },
    {
      "cell_type": "code",
      "metadata": {
        "id": "V0DGL76cWsnX",
        "colab_type": "code",
        "colab": {}
      },
      "source": [
        "import pandas as pd"
      ],
      "execution_count": 113,
      "outputs": []
    },
    {
      "cell_type": "code",
      "metadata": {
        "id": "0bUhHa_MXkiY",
        "colab_type": "code",
        "colab": {}
      },
      "source": [
        "df=pd.read_csv('/content/gdrive/My Drive/updated.csv')"
      ],
      "execution_count": 114,
      "outputs": []
    },
    {
      "cell_type": "code",
      "metadata": {
        "id": "wCfrKx8GX3eA",
        "colab_type": "code",
        "colab": {
          "base_uri": "https://localhost:8080/",
          "height": 408
        },
        "outputId": "3538104c-9fd8-4df6-ee9e-e9d74ae5d8de"
      },
      "source": [
        "df"
      ],
      "execution_count": 115,
      "outputs": [
        {
          "output_type": "execute_result",
          "data": {
            "text/html": [
              "<div>\n",
              "<style scoped>\n",
              "    .dataframe tbody tr th:only-of-type {\n",
              "        vertical-align: middle;\n",
              "    }\n",
              "\n",
              "    .dataframe tbody tr th {\n",
              "        vertical-align: top;\n",
              "    }\n",
              "\n",
              "    .dataframe thead th {\n",
              "        text-align: right;\n",
              "    }\n",
              "</style>\n",
              "<table border=\"1\" class=\"dataframe\">\n",
              "  <thead>\n",
              "    <tr style=\"text-align: right;\">\n",
              "      <th></th>\n",
              "      <th>id</th>\n",
              "      <th>pelvic_incidence</th>\n",
              "      <th>pelvic_tilt</th>\n",
              "      <th>lumbar_lordosis_angle</th>\n",
              "      <th>sacral_slope</th>\n",
              "      <th>pelvic_radius</th>\n",
              "      <th>degree_spondylolisthesis</th>\n",
              "      <th>class</th>\n",
              "    </tr>\n",
              "  </thead>\n",
              "  <tbody>\n",
              "    <tr>\n",
              "      <th>0</th>\n",
              "      <td>1</td>\n",
              "      <td>63.027818</td>\n",
              "      <td>22.552586</td>\n",
              "      <td>39.609117</td>\n",
              "      <td>40.475232</td>\n",
              "      <td>98.672917</td>\n",
              "      <td>-0.254400</td>\n",
              "      <td>Abnormal</td>\n",
              "    </tr>\n",
              "    <tr>\n",
              "      <th>1</th>\n",
              "      <td>2</td>\n",
              "      <td>39.056951</td>\n",
              "      <td>10.060991</td>\n",
              "      <td>25.015378</td>\n",
              "      <td>28.995960</td>\n",
              "      <td>114.405425</td>\n",
              "      <td>4.564259</td>\n",
              "      <td>Abnormal</td>\n",
              "    </tr>\n",
              "    <tr>\n",
              "      <th>2</th>\n",
              "      <td>3</td>\n",
              "      <td>68.832021</td>\n",
              "      <td>22.218482</td>\n",
              "      <td>50.092194</td>\n",
              "      <td>46.613539</td>\n",
              "      <td>105.985135</td>\n",
              "      <td>-3.530317</td>\n",
              "      <td>Abnormal</td>\n",
              "    </tr>\n",
              "    <tr>\n",
              "      <th>3</th>\n",
              "      <td>4</td>\n",
              "      <td>69.297008</td>\n",
              "      <td>24.652878</td>\n",
              "      <td>44.311238</td>\n",
              "      <td>44.644130</td>\n",
              "      <td>101.868495</td>\n",
              "      <td>11.211523</td>\n",
              "      <td>Abnormal</td>\n",
              "    </tr>\n",
              "    <tr>\n",
              "      <th>4</th>\n",
              "      <td>5</td>\n",
              "      <td>49.712859</td>\n",
              "      <td>9.652075</td>\n",
              "      <td>28.317406</td>\n",
              "      <td>40.060784</td>\n",
              "      <td>108.168725</td>\n",
              "      <td>7.918501</td>\n",
              "      <td>Abnormal</td>\n",
              "    </tr>\n",
              "    <tr>\n",
              "      <th>...</th>\n",
              "      <td>...</td>\n",
              "      <td>...</td>\n",
              "      <td>...</td>\n",
              "      <td>...</td>\n",
              "      <td>...</td>\n",
              "      <td>...</td>\n",
              "      <td>...</td>\n",
              "      <td>...</td>\n",
              "    </tr>\n",
              "    <tr>\n",
              "      <th>615</th>\n",
              "      <td>616</td>\n",
              "      <td>80.111572</td>\n",
              "      <td>33.942432</td>\n",
              "      <td>85.101608</td>\n",
              "      <td>46.169139</td>\n",
              "      <td>125.593624</td>\n",
              "      <td>100.292107</td>\n",
              "      <td>Spondylolisthesis</td>\n",
              "    </tr>\n",
              "    <tr>\n",
              "      <th>616</th>\n",
              "      <td>617</td>\n",
              "      <td>95.480229</td>\n",
              "      <td>46.550053</td>\n",
              "      <td>59.000000</td>\n",
              "      <td>48.930176</td>\n",
              "      <td>96.683903</td>\n",
              "      <td>77.283072</td>\n",
              "      <td>Spondylolisthesis</td>\n",
              "    </tr>\n",
              "    <tr>\n",
              "      <th>617</th>\n",
              "      <td>618</td>\n",
              "      <td>74.094731</td>\n",
              "      <td>18.823727</td>\n",
              "      <td>76.032156</td>\n",
              "      <td>55.271004</td>\n",
              "      <td>128.405731</td>\n",
              "      <td>73.388216</td>\n",
              "      <td>Spondylolisthesis</td>\n",
              "    </tr>\n",
              "    <tr>\n",
              "      <th>618</th>\n",
              "      <td>619</td>\n",
              "      <td>87.679087</td>\n",
              "      <td>20.365613</td>\n",
              "      <td>93.822416</td>\n",
              "      <td>67.313473</td>\n",
              "      <td>120.944829</td>\n",
              "      <td>76.730629</td>\n",
              "      <td>Spondylolisthesis</td>\n",
              "    </tr>\n",
              "    <tr>\n",
              "      <th>619</th>\n",
              "      <td>620</td>\n",
              "      <td>48.259920</td>\n",
              "      <td>16.417462</td>\n",
              "      <td>36.329137</td>\n",
              "      <td>31.842457</td>\n",
              "      <td>94.882336</td>\n",
              "      <td>28.343799</td>\n",
              "      <td>Spondylolisthesis</td>\n",
              "    </tr>\n",
              "  </tbody>\n",
              "</table>\n",
              "<p>620 rows × 8 columns</p>\n",
              "</div>"
            ],
            "text/plain": [
              "      id  pelvic_incidence  ...  degree_spondylolisthesis              class\n",
              "0      1         63.027818  ...                 -0.254400           Abnormal\n",
              "1      2         39.056951  ...                  4.564259           Abnormal\n",
              "2      3         68.832021  ...                 -3.530317           Abnormal\n",
              "3      4         69.297008  ...                 11.211523           Abnormal\n",
              "4      5         49.712859  ...                  7.918501           Abnormal\n",
              "..   ...               ...  ...                       ...                ...\n",
              "615  616         80.111572  ...                100.292107  Spondylolisthesis\n",
              "616  617         95.480229  ...                 77.283072  Spondylolisthesis\n",
              "617  618         74.094731  ...                 73.388216  Spondylolisthesis\n",
              "618  619         87.679087  ...                 76.730629  Spondylolisthesis\n",
              "619  620         48.259920  ...                 28.343799  Spondylolisthesis\n",
              "\n",
              "[620 rows x 8 columns]"
            ]
          },
          "metadata": {
            "tags": []
          },
          "execution_count": 115
        }
      ]
    },
    {
      "cell_type": "code",
      "metadata": {
        "id": "Rrz1MyzcaWEu",
        "colab_type": "code",
        "colab": {
          "base_uri": "https://localhost:8080/",
          "height": 34
        },
        "outputId": "d5e5ce6a-3b9f-4fb5-c53e-4c1af56bafbf"
      },
      "source": [
        "df.shape"
      ],
      "execution_count": 116,
      "outputs": [
        {
          "output_type": "execute_result",
          "data": {
            "text/plain": [
              "(620, 8)"
            ]
          },
          "metadata": {
            "tags": []
          },
          "execution_count": 116
        }
      ]
    },
    {
      "cell_type": "code",
      "metadata": {
        "id": "8Xe9sqjnaZ90",
        "colab_type": "code",
        "colab": {
          "base_uri": "https://localhost:8080/",
          "height": 70
        },
        "outputId": "cad1a60b-1055-486e-b3e4-e961b4e4b84d"
      },
      "source": [
        "df.columns"
      ],
      "execution_count": 117,
      "outputs": [
        {
          "output_type": "execute_result",
          "data": {
            "text/plain": [
              "Index(['id', 'pelvic_incidence', 'pelvic_tilt', 'lumbar_lordosis_angle',\n",
              "       'sacral_slope', 'pelvic_radius', 'degree_spondylolisthesis', 'class'],\n",
              "      dtype='object')"
            ]
          },
          "metadata": {
            "tags": []
          },
          "execution_count": 117
        }
      ]
    },
    {
      "cell_type": "code",
      "metadata": {
        "id": "jMxTx9Oq2cZf",
        "colab_type": "code",
        "colab": {
          "base_uri": "https://localhost:8080/",
          "height": 178
        },
        "outputId": "670d0a63-4d2c-4ce3-8a25-0d14b0d3caa4"
      },
      "source": [
        "df.dtypes"
      ],
      "execution_count": 118,
      "outputs": [
        {
          "output_type": "execute_result",
          "data": {
            "text/plain": [
              "id                            int64\n",
              "pelvic_incidence            float64\n",
              "pelvic_tilt                 float64\n",
              "lumbar_lordosis_angle       float64\n",
              "sacral_slope                float64\n",
              "pelvic_radius               float64\n",
              "degree_spondylolisthesis    float64\n",
              "class                        object\n",
              "dtype: object"
            ]
          },
          "metadata": {
            "tags": []
          },
          "execution_count": 118
        }
      ]
    },
    {
      "cell_type": "code",
      "metadata": {
        "id": "Xj7Mbnok2gEZ",
        "colab_type": "code",
        "colab": {
          "base_uri": "https://localhost:8080/",
          "height": 106
        },
        "outputId": "2e42334b-0dea-43e5-e046-973f2c562bb6"
      },
      "source": [
        "df['class'].value_counts()"
      ],
      "execution_count": 119,
      "outputs": [
        {
          "output_type": "execute_result",
          "data": {
            "text/plain": [
              "Abnormal             210\n",
              "Normal               200\n",
              "Spondylolisthesis    150\n",
              "Hernia                60\n",
              "Name: class, dtype: int64"
            ]
          },
          "metadata": {
            "tags": []
          },
          "execution_count": 119
        }
      ]
    },
    {
      "cell_type": "code",
      "metadata": {
        "id": "djSgMf6c3B6O",
        "colab_type": "code",
        "colab": {
          "base_uri": "https://localhost:8080/",
          "height": 283
        },
        "outputId": "756b72c8-a90a-495c-87f2-3712f304aefa"
      },
      "source": [
        "import matplotlib.pyplot as plt\n",
        "%matplotlib inline \n",
        "df['class'].hist(bins=4)"
      ],
      "execution_count": 120,
      "outputs": [
        {
          "output_type": "execute_result",
          "data": {
            "text/plain": [
              "<matplotlib.axes._subplots.AxesSubplot at 0x7f48222d0c88>"
            ]
          },
          "metadata": {
            "tags": []
          },
          "execution_count": 120
        },
        {
          "output_type": "display_data",
          "data": {
            "image/png": "[encoded data removed]",
            "text/plain": [
              "<Figure size 432x288 with 1 Axes>"
            ]
          },
          "metadata": {
            "tags": [],
            "needs_background": "light"
          }
        }
      ]
    },
    {
      "cell_type": "code",
      "metadata": {
        "id": "9o2eTHv93YIB",
        "colab_type": "code",
        "colab": {
          "base_uri": "https://localhost:8080/",
          "height": 266
        },
        "outputId": "fe6eaa7d-e508-4c02-9a80-1c6d72417d0c"
      },
      "source": [
        "df.corr()"
      ],
      "execution_count": 121,
      "outputs": [
        {
          "output_type": "execute_result",
          "data": {
            "text/html": [
              "<div>\n",
              "<style scoped>\n",
              "    .dataframe tbody tr th:only-of-type {\n",
              "        vertical-align: middle;\n",
              "    }\n",
              "\n",
              "    .dataframe tbody tr th {\n",
              "        vertical-align: top;\n",
              "    }\n",
              "\n",
              "    .dataframe thead th {\n",
              "        text-align: right;\n",
              "    }\n",
              "</style>\n",
              "<table border=\"1\" class=\"dataframe\">\n",
              "  <thead>\n",
              "    <tr style=\"text-align: right;\">\n",
              "      <th></th>\n",
              "      <th>id</th>\n",
              "      <th>pelvic_incidence</th>\n",
              "      <th>pelvic_tilt</th>\n",
              "      <th>lumbar_lordosis_angle</th>\n",
              "      <th>sacral_slope</th>\n",
              "      <th>pelvic_radius</th>\n",
              "      <th>degree_spondylolisthesis</th>\n",
              "    </tr>\n",
              "  </thead>\n",
              "  <tbody>\n",
              "    <tr>\n",
              "      <th>id</th>\n",
              "      <td>1.000000</td>\n",
              "      <td>0.108888</td>\n",
              "      <td>0.024701</td>\n",
              "      <td>0.135131</td>\n",
              "      <td>0.121405</td>\n",
              "      <td>-0.050978</td>\n",
              "      <td>0.104298</td>\n",
              "    </tr>\n",
              "    <tr>\n",
              "      <th>pelvic_incidence</th>\n",
              "      <td>0.108888</td>\n",
              "      <td>1.000000</td>\n",
              "      <td>0.629199</td>\n",
              "      <td>0.717282</td>\n",
              "      <td>0.814960</td>\n",
              "      <td>-0.247467</td>\n",
              "      <td>0.638743</td>\n",
              "    </tr>\n",
              "    <tr>\n",
              "      <th>pelvic_tilt</th>\n",
              "      <td>0.024701</td>\n",
              "      <td>0.629199</td>\n",
              "      <td>1.000000</td>\n",
              "      <td>0.432764</td>\n",
              "      <td>0.062345</td>\n",
              "      <td>0.032668</td>\n",
              "      <td>0.397862</td>\n",
              "    </tr>\n",
              "    <tr>\n",
              "      <th>lumbar_lordosis_angle</th>\n",
              "      <td>0.135131</td>\n",
              "      <td>0.717282</td>\n",
              "      <td>0.432764</td>\n",
              "      <td>1.000000</td>\n",
              "      <td>0.598387</td>\n",
              "      <td>-0.080344</td>\n",
              "      <td>0.533667</td>\n",
              "    </tr>\n",
              "    <tr>\n",
              "      <th>sacral_slope</th>\n",
              "      <td>0.121405</td>\n",
              "      <td>0.814960</td>\n",
              "      <td>0.062345</td>\n",
              "      <td>0.598387</td>\n",
              "      <td>1.000000</td>\n",
              "      <td>-0.342128</td>\n",
              "      <td>0.523557</td>\n",
              "    </tr>\n",
              "    <tr>\n",
              "      <th>pelvic_radius</th>\n",
              "      <td>-0.050978</td>\n",
              "      <td>-0.247467</td>\n",
              "      <td>0.032668</td>\n",
              "      <td>-0.080344</td>\n",
              "      <td>-0.342128</td>\n",
              "      <td>1.000000</td>\n",
              "      <td>-0.026065</td>\n",
              "    </tr>\n",
              "    <tr>\n",
              "      <th>degree_spondylolisthesis</th>\n",
              "      <td>0.104298</td>\n",
              "      <td>0.638743</td>\n",
              "      <td>0.397862</td>\n",
              "      <td>0.533667</td>\n",
              "      <td>0.523557</td>\n",
              "      <td>-0.026065</td>\n",
              "      <td>1.000000</td>\n",
              "    </tr>\n",
              "  </tbody>\n",
              "</table>\n",
              "</div>"
            ],
            "text/plain": [
              "                                id  ...  degree_spondylolisthesis\n",
              "id                        1.000000  ...                  0.104298\n",
              "pelvic_incidence          0.108888  ...                  0.638743\n",
              "pelvic_tilt               0.024701  ...                  0.397862\n",
              "lumbar_lordosis_angle     0.135131  ...                  0.533667\n",
              "sacral_slope              0.121405  ...                  0.523557\n",
              "pelvic_radius            -0.050978  ...                 -0.026065\n",
              "degree_spondylolisthesis  0.104298  ...                  1.000000\n",
              "\n",
              "[7 rows x 7 columns]"
            ]
          },
          "metadata": {
            "tags": []
          },
          "execution_count": 121
        }
      ]
    },
    {
      "cell_type": "code",
      "metadata": {
        "id": "G2A2q6En3onb",
        "colab_type": "code",
        "colab": {}
      },
      "source": [
        "import seaborn as sns\n",
        "corr=df.corr()"
      ],
      "execution_count": 122,
      "outputs": []
    },
    {
      "cell_type": "code",
      "metadata": {
        "id": "ooHC49te3zkK",
        "colab_type": "code",
        "colab": {
          "base_uri": "https://localhost:8080/",
          "height": 403
        },
        "outputId": "eeb89226-110b-42de-ee60-a0d30a099402"
      },
      "source": [
        "sns.heatmap(corr,xticklabels=corr.columns,yticklabels=corr.columns)"
      ],
      "execution_count": 123,
      "outputs": [
        {
          "output_type": "execute_result",
          "data": {
            "text/plain": [
              "<matplotlib.axes._subplots.AxesSubplot at 0x7f4821f3ad30>"
            ]
          },
          "metadata": {
            "tags": []
          },
          "execution_count": 123
        },
        {
          "output_type": "display_data",
          "data": {
            "image/png": "[encoded data removed]",
            "text/plain": [
              "<Figure size 432x288 with 2 Axes>"
            ]
          },
          "metadata": {
            "tags": [],
            "needs_background": "light"
          }
        }
      ]
    },
    {
      "cell_type": "code",
      "metadata": {
        "id": "wBLvV5tK31_M",
        "colab_type": "code",
        "colab": {
          "base_uri": "https://localhost:8080/",
          "height": 388
        },
        "outputId": "35792598-e262-4086-9925-8dae8732d569"
      },
      "source": [
        "from sklearn.preprocessing import LabelEncoder,OneHotEncoder\n",
        "labenc=LabelEncoder()    #label or indexing of categorical data\n",
        "df[\"class\"]=labenc.fit_transform(df[\"class\"])   \n",
        "df"
      ],
      "execution_count": 124,
      "outputs": [
        {
          "output_type": "execute_result",
          "data": {
            "text/html": [
              "<div>\n",
              "<style scoped>\n",
              "    .dataframe tbody tr th:only-of-type {\n",
              "        vertical-align: middle;\n",
              "    }\n",
              "\n",
              "    .dataframe tbody tr th {\n",
              "        vertical-align: top;\n",
              "    }\n",
              "\n",
              "    .dataframe thead th {\n",
              "        text-align: right;\n",
              "    }\n",
              "</style>\n",
              "<table border=\"1\" class=\"dataframe\">\n",
              "  <thead>\n",
              "    <tr style=\"text-align: right;\">\n",
              "      <th></th>\n",
              "      <th>id</th>\n",
              "      <th>pelvic_incidence</th>\n",
              "      <th>pelvic_tilt</th>\n",
              "      <th>lumbar_lordosis_angle</th>\n",
              "      <th>sacral_slope</th>\n",
              "      <th>pelvic_radius</th>\n",
              "      <th>degree_spondylolisthesis</th>\n",
              "      <th>class</th>\n",
              "    </tr>\n",
              "  </thead>\n",
              "  <tbody>\n",
              "    <tr>\n",
              "      <th>0</th>\n",
              "      <td>1</td>\n",
              "      <td>63.027818</td>\n",
              "      <td>22.552586</td>\n",
              "      <td>39.609117</td>\n",
              "      <td>40.475232</td>\n",
              "      <td>98.672917</td>\n",
              "      <td>-0.254400</td>\n",
              "      <td>0</td>\n",
              "    </tr>\n",
              "    <tr>\n",
              "      <th>1</th>\n",
              "      <td>2</td>\n",
              "      <td>39.056951</td>\n",
              "      <td>10.060991</td>\n",
              "      <td>25.015378</td>\n",
              "      <td>28.995960</td>\n",
              "      <td>114.405425</td>\n",
              "      <td>4.564259</td>\n",
              "      <td>0</td>\n",
              "    </tr>\n",
              "    <tr>\n",
              "      <th>2</th>\n",
              "      <td>3</td>\n",
              "      <td>68.832021</td>\n",
              "      <td>22.218482</td>\n",
              "      <td>50.092194</td>\n",
              "      <td>46.613539</td>\n",
              "      <td>105.985135</td>\n",
              "      <td>-3.530317</td>\n",
              "      <td>0</td>\n",
              "    </tr>\n",
              "    <tr>\n",
              "      <th>3</th>\n",
              "      <td>4</td>\n",
              "      <td>69.297008</td>\n",
              "      <td>24.652878</td>\n",
              "      <td>44.311238</td>\n",
              "      <td>44.644130</td>\n",
              "      <td>101.868495</td>\n",
              "      <td>11.211523</td>\n",
              "      <td>0</td>\n",
              "    </tr>\n",
              "    <tr>\n",
              "      <th>4</th>\n",
              "      <td>5</td>\n",
              "      <td>49.712859</td>\n",
              "      <td>9.652075</td>\n",
              "      <td>28.317406</td>\n",
              "      <td>40.060784</td>\n",
              "      <td>108.168725</td>\n",
              "      <td>7.918501</td>\n",
              "      <td>0</td>\n",
              "    </tr>\n",
              "    <tr>\n",
              "      <th>...</th>\n",
              "      <td>...</td>\n",
              "      <td>...</td>\n",
              "      <td>...</td>\n",
              "      <td>...</td>\n",
              "      <td>...</td>\n",
              "      <td>...</td>\n",
              "      <td>...</td>\n",
              "      <td>...</td>\n",
              "    </tr>\n",
              "    <tr>\n",
              "      <th>615</th>\n",
              "      <td>616</td>\n",
              "      <td>80.111572</td>\n",
              "      <td>33.942432</td>\n",
              "      <td>85.101608</td>\n",
              "      <td>46.169139</td>\n",
              "      <td>125.593624</td>\n",
              "      <td>100.292107</td>\n",
              "      <td>3</td>\n",
              "    </tr>\n",
              "    <tr>\n",
              "      <th>616</th>\n",
              "      <td>617</td>\n",
              "      <td>95.480229</td>\n",
              "      <td>46.550053</td>\n",
              "      <td>59.000000</td>\n",
              "      <td>48.930176</td>\n",
              "      <td>96.683903</td>\n",
              "      <td>77.283072</td>\n",
              "      <td>3</td>\n",
              "    </tr>\n",
              "    <tr>\n",
              "      <th>617</th>\n",
              "      <td>618</td>\n",
              "      <td>74.094731</td>\n",
              "      <td>18.823727</td>\n",
              "      <td>76.032156</td>\n",
              "      <td>55.271004</td>\n",
              "      <td>128.405731</td>\n",
              "      <td>73.388216</td>\n",
              "      <td>3</td>\n",
              "    </tr>\n",
              "    <tr>\n",
              "      <th>618</th>\n",
              "      <td>619</td>\n",
              "      <td>87.679087</td>\n",
              "      <td>20.365613</td>\n",
              "      <td>93.822416</td>\n",
              "      <td>67.313473</td>\n",
              "      <td>120.944829</td>\n",
              "      <td>76.730629</td>\n",
              "      <td>3</td>\n",
              "    </tr>\n",
              "    <tr>\n",
              "      <th>619</th>\n",
              "      <td>620</td>\n",
              "      <td>48.259920</td>\n",
              "      <td>16.417462</td>\n",
              "      <td>36.329137</td>\n",
              "      <td>31.842457</td>\n",
              "      <td>94.882336</td>\n",
              "      <td>28.343799</td>\n",
              "      <td>3</td>\n",
              "    </tr>\n",
              "  </tbody>\n",
              "</table>\n",
              "<p>620 rows × 8 columns</p>\n",
              "</div>"
            ],
            "text/plain": [
              "      id  pelvic_incidence  ...  degree_spondylolisthesis  class\n",
              "0      1         63.027818  ...                 -0.254400      0\n",
              "1      2         39.056951  ...                  4.564259      0\n",
              "2      3         68.832021  ...                 -3.530317      0\n",
              "3      4         69.297008  ...                 11.211523      0\n",
              "4      5         49.712859  ...                  7.918501      0\n",
              "..   ...               ...  ...                       ...    ...\n",
              "615  616         80.111572  ...                100.292107      3\n",
              "616  617         95.480229  ...                 77.283072      3\n",
              "617  618         74.094731  ...                 73.388216      3\n",
              "618  619         87.679087  ...                 76.730629      3\n",
              "619  620         48.259920  ...                 28.343799      3\n",
              "\n",
              "[620 rows x 8 columns]"
            ]
          },
          "metadata": {
            "tags": []
          },
          "execution_count": 124
        }
      ]
    },
    {
      "cell_type": "code",
      "metadata": {
        "id": "4fY4Elb25K0E",
        "colab_type": "code",
        "colab": {
          "base_uri": "https://localhost:8080/",
          "height": 106
        },
        "outputId": "3d0b1ec7-a682-4e2a-af3f-93473fd3757a"
      },
      "source": [
        "df['class'].value_counts()"
      ],
      "execution_count": 125,
      "outputs": [
        {
          "output_type": "execute_result",
          "data": {
            "text/plain": [
              "0    210\n",
              "2    200\n",
              "3    150\n",
              "1     60\n",
              "Name: class, dtype: int64"
            ]
          },
          "metadata": {
            "tags": []
          },
          "execution_count": 125
        }
      ]
    },
    {
      "cell_type": "code",
      "metadata": {
        "id": "ptlYnWBA5EYt",
        "colab_type": "code",
        "colab": {}
      },
      "source": [
        "x=df.drop(columns = ['class'])\n",
        "y=df['class']"
      ],
      "execution_count": 126,
      "outputs": []
    },
    {
      "cell_type": "code",
      "metadata": {
        "id": "-C1SQ2Ar7xT6",
        "colab_type": "code",
        "colab": {
          "base_uri": "https://localhost:8080/",
          "height": 388
        },
        "outputId": "4874d74b-a106-4a6c-cf12-af8939aae718"
      },
      "source": [
        "x"
      ],
      "execution_count": 127,
      "outputs": [
        {
          "output_type": "execute_result",
          "data": {
            "text/html": [
              "<div>\n",
              "<style scoped>\n",
              "    .dataframe tbody tr th:only-of-type {\n",
              "        vertical-align: middle;\n",
              "    }\n",
              "\n",
              "    .dataframe tbody tr th {\n",
              "        vertical-align: top;\n",
              "    }\n",
              "\n",
              "    .dataframe thead th {\n",
              "        text-align: right;\n",
              "    }\n",
              "</style>\n",
              "<table border=\"1\" class=\"dataframe\">\n",
              "  <thead>\n",
              "    <tr style=\"text-align: right;\">\n",
              "      <th></th>\n",
              "      <th>id</th>\n",
              "      <th>pelvic_incidence</th>\n",
              "      <th>pelvic_tilt</th>\n",
              "      <th>lumbar_lordosis_angle</th>\n",
              "      <th>sacral_slope</th>\n",
              "      <th>pelvic_radius</th>\n",
              "      <th>degree_spondylolisthesis</th>\n",
              "    </tr>\n",
              "  </thead>\n",
              "  <tbody>\n",
              "    <tr>\n",
              "      <th>0</th>\n",
              "      <td>1</td>\n",
              "      <td>63.027818</td>\n",
              "      <td>22.552586</td>\n",
              "      <td>39.609117</td>\n",
              "      <td>40.475232</td>\n",
              "      <td>98.672917</td>\n",
              "      <td>-0.254400</td>\n",
              "    </tr>\n",
              "    <tr>\n",
              "      <th>1</th>\n",
              "      <td>2</td>\n",
              "      <td>39.056951</td>\n",
              "      <td>10.060991</td>\n",
              "      <td>25.015378</td>\n",
              "      <td>28.995960</td>\n",
              "      <td>114.405425</td>\n",
              "      <td>4.564259</td>\n",
              "    </tr>\n",
              "    <tr>\n",
              "      <th>2</th>\n",
              "      <td>3</td>\n",
              "      <td>68.832021</td>\n",
              "      <td>22.218482</td>\n",
              "      <td>50.092194</td>\n",
              "      <td>46.613539</td>\n",
              "      <td>105.985135</td>\n",
              "      <td>-3.530317</td>\n",
              "    </tr>\n",
              "    <tr>\n",
              "      <th>3</th>\n",
              "      <td>4</td>\n",
              "      <td>69.297008</td>\n",
              "      <td>24.652878</td>\n",
              "      <td>44.311238</td>\n",
              "      <td>44.644130</td>\n",
              "      <td>101.868495</td>\n",
              "      <td>11.211523</td>\n",
              "    </tr>\n",
              "    <tr>\n",
              "      <th>4</th>\n",
              "      <td>5</td>\n",
              "      <td>49.712859</td>\n",
              "      <td>9.652075</td>\n",
              "      <td>28.317406</td>\n",
              "      <td>40.060784</td>\n",
              "      <td>108.168725</td>\n",
              "      <td>7.918501</td>\n",
              "    </tr>\n",
              "    <tr>\n",
              "      <th>...</th>\n",
              "      <td>...</td>\n",
              "      <td>...</td>\n",
              "      <td>...</td>\n",
              "      <td>...</td>\n",
              "      <td>...</td>\n",
              "      <td>...</td>\n",
              "      <td>...</td>\n",
              "    </tr>\n",
              "    <tr>\n",
              "      <th>615</th>\n",
              "      <td>616</td>\n",
              "      <td>80.111572</td>\n",
              "      <td>33.942432</td>\n",
              "      <td>85.101608</td>\n",
              "      <td>46.169139</td>\n",
              "      <td>125.593624</td>\n",
              "      <td>100.292107</td>\n",
              "    </tr>\n",
              "    <tr>\n",
              "      <th>616</th>\n",
              "      <td>617</td>\n",
              "      <td>95.480229</td>\n",
              "      <td>46.550053</td>\n",
              "      <td>59.000000</td>\n",
              "      <td>48.930176</td>\n",
              "      <td>96.683903</td>\n",
              "      <td>77.283072</td>\n",
              "    </tr>\n",
              "    <tr>\n",
              "      <th>617</th>\n",
              "      <td>618</td>\n",
              "      <td>74.094731</td>\n",
              "      <td>18.823727</td>\n",
              "      <td>76.032156</td>\n",
              "      <td>55.271004</td>\n",
              "      <td>128.405731</td>\n",
              "      <td>73.388216</td>\n",
              "    </tr>\n",
              "    <tr>\n",
              "      <th>618</th>\n",
              "      <td>619</td>\n",
              "      <td>87.679087</td>\n",
              "      <td>20.365613</td>\n",
              "      <td>93.822416</td>\n",
              "      <td>67.313473</td>\n",
              "      <td>120.944829</td>\n",
              "      <td>76.730629</td>\n",
              "    </tr>\n",
              "    <tr>\n",
              "      <th>619</th>\n",
              "      <td>620</td>\n",
              "      <td>48.259920</td>\n",
              "      <td>16.417462</td>\n",
              "      <td>36.329137</td>\n",
              "      <td>31.842457</td>\n",
              "      <td>94.882336</td>\n",
              "      <td>28.343799</td>\n",
              "    </tr>\n",
              "  </tbody>\n",
              "</table>\n",
              "<p>620 rows × 7 columns</p>\n",
              "</div>"
            ],
            "text/plain": [
              "      id  pelvic_incidence  ...  pelvic_radius  degree_spondylolisthesis\n",
              "0      1         63.027818  ...      98.672917                 -0.254400\n",
              "1      2         39.056951  ...     114.405425                  4.564259\n",
              "2      3         68.832021  ...     105.985135                 -3.530317\n",
              "3      4         69.297008  ...     101.868495                 11.211523\n",
              "4      5         49.712859  ...     108.168725                  7.918501\n",
              "..   ...               ...  ...            ...                       ...\n",
              "615  616         80.111572  ...     125.593624                100.292107\n",
              "616  617         95.480229  ...      96.683903                 77.283072\n",
              "617  618         74.094731  ...     128.405731                 73.388216\n",
              "618  619         87.679087  ...     120.944829                 76.730629\n",
              "619  620         48.259920  ...      94.882336                 28.343799\n",
              "\n",
              "[620 rows x 7 columns]"
            ]
          },
          "metadata": {
            "tags": []
          },
          "execution_count": 127
        }
      ]
    },
    {
      "cell_type": "code",
      "metadata": {
        "id": "eLeQXcMq7yNX",
        "colab_type": "code",
        "colab": {
          "base_uri": "https://localhost:8080/",
          "height": 232
        },
        "outputId": "acfb1540-6bd3-48d7-d13f-87b6a76c641b"
      },
      "source": [
        "y"
      ],
      "execution_count": 128,
      "outputs": [
        {
          "output_type": "execute_result",
          "data": {
            "text/plain": [
              "0      0\n",
              "1      0\n",
              "2      0\n",
              "3      0\n",
              "4      0\n",
              "      ..\n",
              "615    3\n",
              "616    3\n",
              "617    3\n",
              "618    3\n",
              "619    3\n",
              "Name: class, Length: 620, dtype: int64"
            ]
          },
          "metadata": {
            "tags": []
          },
          "execution_count": 128
        }
      ]
    },
    {
      "cell_type": "code",
      "metadata": {
        "id": "RR0-0Dom70TO",
        "colab_type": "code",
        "colab": {}
      },
      "source": [
        "from sklearn.model_selection import train_test_split\n",
        "x_train,x_test,y_train,y_test=train_test_split(x,y,test_size=0.2,random_state=0) "
      ],
      "execution_count": 129,
      "outputs": []
    },
    {
      "cell_type": "code",
      "metadata": {
        "id": "It5i4g2S8BCW",
        "colab_type": "code",
        "colab": {}
      },
      "source": [
        "#logistic regreesion"
      ],
      "execution_count": 130,
      "outputs": []
    },
    {
      "cell_type": "code",
      "metadata": {
        "id": "BZGu_IWy8Glx",
        "colab_type": "code",
        "colab": {
          "base_uri": "https://localhost:8080/",
          "height": 270
        },
        "outputId": "27c0fda0-06b6-4253-eb81-2a53c3405149"
      },
      "source": [
        "from sklearn.linear_model.logistic import LogisticRegression \n",
        "lgsr=LogisticRegression(random_state=0) \n",
        "lgsr.fit(x_train,y_train)"
      ],
      "execution_count": 131,
      "outputs": [
        {
          "output_type": "stream",
          "text": [
            "/usr/local/lib/python3.6/dist-packages/sklearn/linear_model/_logistic.py:940: ConvergenceWarning: lbfgs failed to converge (status=1):\n",
            "STOP: TOTAL NO. of ITERATIONS REACHED LIMIT.\n",
            "\n",
            "Increase the number of iterations (max_iter) or scale the data as shown in:\n",
            "    https://scikit-learn.org/stable/modules/preprocessing.html\n",
            "Please also refer to the documentation for alternative solver options:\n",
            "    https://scikit-learn.org/stable/modules/linear_model.html#logistic-regression\n",
            "  extra_warning_msg=_LOGISTIC_SOLVER_CONVERGENCE_MSG)\n"
          ],
          "name": "stderr"
        },
        {
          "output_type": "execute_result",
          "data": {
            "text/plain": [
              "LogisticRegression(C=1.0, class_weight=None, dual=False, fit_intercept=True,\n",
              "                   intercept_scaling=1, l1_ratio=None, max_iter=100,\n",
              "                   multi_class='auto', n_jobs=None, penalty='l2',\n",
              "                   random_state=0, solver='lbfgs', tol=0.0001, verbose=0,\n",
              "                   warm_start=False)"
            ]
          },
          "metadata": {
            "tags": []
          },
          "execution_count": 131
        }
      ]
    },
    {
      "cell_type": "code",
      "metadata": {
        "id": "VumehCIt8Hq_",
        "colab_type": "code",
        "colab": {
          "base_uri": "https://localhost:8080/",
          "height": 124
        },
        "outputId": "83ef1b54-f226-486c-895c-b59db84e2090"
      },
      "source": [
        " y_pred=lgsr.predict(x_test) \n",
        "y_pred "
      ],
      "execution_count": 132,
      "outputs": [
        {
          "output_type": "execute_result",
          "data": {
            "text/plain": [
              "array([2, 1, 1, 2, 2, 1, 2, 2, 2, 0, 0, 3, 2, 1, 0, 3, 1, 0, 2, 2, 2, 1,\n",
              "       2, 3, 3, 2, 2, 1, 3, 2, 0, 0, 3, 0, 3, 2, 3, 0, 0, 0, 2, 0, 0, 2,\n",
              "       2, 0, 2, 0, 0, 2, 3, 0, 3, 2, 0, 2, 0, 3, 0, 2, 3, 3, 2, 2, 3, 0,\n",
              "       1, 1, 0, 1, 2, 3, 2, 0, 2, 2, 3, 2, 0, 0, 3, 3, 0, 0, 0, 3, 2, 2,\n",
              "       3, 3, 0, 0, 0, 2, 2, 2, 0, 0, 0, 3, 0, 3, 0, 3, 2, 0, 0, 3, 2, 2,\n",
              "       1, 1, 0, 2, 0, 0, 3, 3, 2, 0, 0, 2, 0, 0])"
            ]
          },
          "metadata": {
            "tags": []
          },
          "execution_count": 132
        }
      ]
    },
    {
      "cell_type": "code",
      "metadata": {
        "id": "5Gyo02fR8PdO",
        "colab_type": "code",
        "colab": {
          "base_uri": "https://localhost:8080/",
          "height": 88
        },
        "outputId": "2ee72a6e-c4cd-4e23-d5e9-7e295af524ca"
      },
      "source": [
        "from sklearn.metrics import confusion_matrix \n",
        "conf_matrix=confusion_matrix(y_pred,y_test) \n",
        "conf_matrix"
      ],
      "execution_count": 133,
      "outputs": [
        {
          "output_type": "execute_result",
          "data": {
            "text/plain": [
              "array([[44,  0,  0,  0],\n",
              "       [ 0, 12,  0,  0],\n",
              "       [ 1,  1, 39,  0],\n",
              "       [ 0,  0,  0, 27]])"
            ]
          },
          "metadata": {
            "tags": []
          },
          "execution_count": 133
        }
      ]
    },
    {
      "cell_type": "code",
      "metadata": {
        "id": "Hz_rtqNt8T_m",
        "colab_type": "code",
        "colab": {
          "base_uri": "https://localhost:8080/",
          "height": 34
        },
        "outputId": "2f869d96-89aa-4c8a-e775-375e459e8d0f"
      },
      "source": [
        " from sklearn.metrics import accuracy_score \n",
        "acc_sco=accuracy_score(y_test,y_pred) \n",
        "acc_sco"
      ],
      "execution_count": 134,
      "outputs": [
        {
          "output_type": "execute_result",
          "data": {
            "text/plain": [
              "0.9838709677419355"
            ]
          },
          "metadata": {
            "tags": []
          },
          "execution_count": 134
        }
      ]
    },
    {
      "cell_type": "code",
      "metadata": {
        "id": "NRNCor_z8XMu",
        "colab_type": "code",
        "colab": {}
      },
      "source": [
        "#naive bayes"
      ],
      "execution_count": 135,
      "outputs": []
    },
    {
      "cell_type": "code",
      "metadata": {
        "id": "XhmT7xaO8fXZ",
        "colab_type": "code",
        "colab": {}
      },
      "source": [
        "import numpy as np\n",
        "from sklearn.naive_bayes import GaussianNB"
      ],
      "execution_count": 136,
      "outputs": []
    },
    {
      "cell_type": "code",
      "metadata": {
        "id": "XzUcVsWT8jQ4",
        "colab_type": "code",
        "colab": {
          "base_uri": "https://localhost:8080/",
          "height": 88
        },
        "outputId": "bc9aed3a-be8b-40c0-e90a-d4ce4378a042"
      },
      "source": [
        "clf=GaussianNB()\n",
        "clf.fit(x_train,y_train)\n",
        "GaussianNB()\n",
        "print(clf.predict(x_test))"
      ],
      "execution_count": 137,
      "outputs": [
        {
          "output_type": "stream",
          "text": [
            "[2 1 1 2 2 2 2 2 2 0 0 3 2 1 0 3 1 0 2 2 2 1 2 3 3 2 2 1 3 2 0 0 3 0 3 2 3\n",
            " 0 0 0 2 0 0 2 2 0 2 0 0 2 3 0 3 2 0 2 0 3 0 2 3 3 2 2 3 0 1 1 0 1 2 3 2 0\n",
            " 2 2 3 0 0 0 3 3 0 0 0 3 2 2 3 3 0 0 0 2 2 3 0 0 0 3 0 3 0 3 2 0 0 3 2 2 2\n",
            " 1 0 2 0 0 3 3 2 0 0 2 0 0]\n"
          ],
          "name": "stdout"
        }
      ]
    },
    {
      "cell_type": "code",
      "metadata": {
        "id": "vNlXSQLa8mYt",
        "colab_type": "code",
        "colab": {
          "base_uri": "https://localhost:8080/",
          "height": 124
        },
        "outputId": "6a0afd0a-117b-4902-e495-f63bebdfabf8"
      },
      "source": [
        "y_predict=clf.predict(x_test)\n",
        "y_predict"
      ],
      "execution_count": 138,
      "outputs": [
        {
          "output_type": "execute_result",
          "data": {
            "text/plain": [
              "array([2, 1, 1, 2, 2, 2, 2, 2, 2, 0, 0, 3, 2, 1, 0, 3, 1, 0, 2, 2, 2, 1,\n",
              "       2, 3, 3, 2, 2, 1, 3, 2, 0, 0, 3, 0, 3, 2, 3, 0, 0, 0, 2, 0, 0, 2,\n",
              "       2, 0, 2, 0, 0, 2, 3, 0, 3, 2, 0, 2, 0, 3, 0, 2, 3, 3, 2, 2, 3, 0,\n",
              "       1, 1, 0, 1, 2, 3, 2, 0, 2, 2, 3, 0, 0, 0, 3, 3, 0, 0, 0, 3, 2, 2,\n",
              "       3, 3, 0, 0, 0, 2, 2, 3, 0, 0, 0, 3, 0, 3, 0, 3, 2, 0, 0, 3, 2, 2,\n",
              "       2, 1, 0, 2, 0, 0, 3, 3, 2, 0, 0, 2, 0, 0])"
            ]
          },
          "metadata": {
            "tags": []
          },
          "execution_count": 138
        }
      ]
    },
    {
      "cell_type": "code",
      "metadata": {
        "id": "Dn-TwIyC8pf0",
        "colab_type": "code",
        "colab": {}
      },
      "source": [
        "nb_acc=accuracy_score(y_test,y_predict)"
      ],
      "execution_count": 139,
      "outputs": []
    },
    {
      "cell_type": "code",
      "metadata": {
        "id": "rEUHwcst8sZo",
        "colab_type": "code",
        "colab": {
          "base_uri": "https://localhost:8080/",
          "height": 34
        },
        "outputId": "4592f87d-e72b-4b2d-ca5b-d4846916f578"
      },
      "source": [
        "nb_acc"
      ],
      "execution_count": 140,
      "outputs": [
        {
          "output_type": "execute_result",
          "data": {
            "text/plain": [
              "0.967741935483871"
            ]
          },
          "metadata": {
            "tags": []
          },
          "execution_count": 140
        }
      ]
    },
    {
      "cell_type": "code",
      "metadata": {
        "id": "XMMb0cyF8vEC",
        "colab_type": "code",
        "colab": {
          "base_uri": "https://localhost:8080/",
          "height": 88
        },
        "outputId": "7a6ca359-88af-42e5-a847-1cf6e7239643"
      },
      "source": [
        "nb_cm_test=confusion_matrix(y_test,y_predict)\n",
        "nb_cm_test"
      ],
      "execution_count": 141,
      "outputs": [
        {
          "output_type": "execute_result",
          "data": {
            "text/plain": [
              "array([[45,  0,  0,  0],\n",
              "       [ 0, 10,  3,  0],\n",
              "       [ 0,  0, 38,  1],\n",
              "       [ 0,  0,  0, 27]])"
            ]
          },
          "metadata": {
            "tags": []
          },
          "execution_count": 141
        }
      ]
    },
    {
      "cell_type": "code",
      "metadata": {
        "id": "7z-SiW-A8yQl",
        "colab_type": "code",
        "colab": {}
      },
      "source": [
        "#decision tree"
      ],
      "execution_count": 142,
      "outputs": []
    },
    {
      "cell_type": "code",
      "metadata": {
        "id": "QeiDThja_NON",
        "colab_type": "code",
        "colab": {}
      },
      "source": [
        "import numpy as np \n",
        "import pandas as pd \n",
        "from sklearn.metrics import confusion_matrix \n",
        "from sklearn.model_selection import train_test_split\n",
        "from sklearn.tree import DecisionTreeClassifier \n",
        "from sklearn.metrics import accuracy_score \n",
        "from sklearn.metrics import classification_report"
      ],
      "execution_count": 143,
      "outputs": []
    },
    {
      "cell_type": "code",
      "metadata": {
        "id": "tFO9gJOF_y2s",
        "colab_type": "code",
        "colab": {}
      },
      "source": [
        "from sklearn.tree import DecisionTreeClassifier\n",
        "dt=DecisionTreeClassifier(criterion='entropy',random_state=0)"
      ],
      "execution_count": 144,
      "outputs": []
    },
    {
      "cell_type": "code",
      "metadata": {
        "id": "kjGpjfNjA2An",
        "colab_type": "code",
        "colab": {
          "base_uri": "https://localhost:8080/",
          "height": 124
        },
        "outputId": "1e1e3fd5-908c-4c73-d451-f2d4334afc52"
      },
      "source": [
        "dt.fit(x_train,y_train)"
      ],
      "execution_count": 145,
      "outputs": [
        {
          "output_type": "execute_result",
          "data": {
            "text/plain": [
              "DecisionTreeClassifier(ccp_alpha=0.0, class_weight=None, criterion='entropy',\n",
              "                       max_depth=None, max_features=None, max_leaf_nodes=None,\n",
              "                       min_impurity_decrease=0.0, min_impurity_split=None,\n",
              "                       min_samples_leaf=1, min_samples_split=2,\n",
              "                       min_weight_fraction_leaf=0.0, presort='deprecated',\n",
              "                       random_state=0, splitter='best')"
            ]
          },
          "metadata": {
            "tags": []
          },
          "execution_count": 145
        }
      ]
    },
    {
      "cell_type": "code",
      "metadata": {
        "id": "-QfOIs44F3i0",
        "colab_type": "code",
        "colab": {
          "base_uri": "https://localhost:8080/",
          "height": 124
        },
        "outputId": "c30f28f4-0eb2-4881-952b-ea86766668a0"
      },
      "source": [
        "y_pred=dt.predict(x_test)\n",
        "y_pred"
      ],
      "execution_count": 146,
      "outputs": [
        {
          "output_type": "execute_result",
          "data": {
            "text/plain": [
              "array([2, 1, 1, 2, 2, 1, 2, 2, 2, 0, 0, 3, 2, 1, 0, 3, 1, 0, 2, 2, 2, 1,\n",
              "       2, 3, 3, 2, 2, 1, 3, 2, 0, 0, 3, 0, 3, 2, 3, 0, 0, 0, 2, 0, 0, 2,\n",
              "       2, 0, 2, 0, 0, 1, 3, 0, 3, 2, 0, 2, 0, 3, 0, 2, 3, 3, 2, 2, 3, 0,\n",
              "       1, 1, 0, 1, 2, 3, 2, 0, 2, 2, 3, 0, 0, 0, 3, 3, 0, 0, 0, 3, 2, 2,\n",
              "       3, 3, 0, 0, 0, 2, 2, 2, 0, 0, 0, 3, 0, 3, 0, 3, 2, 0, 0, 3, 2, 2,\n",
              "       1, 1, 0, 2, 0, 0, 3, 3, 2, 0, 0, 2, 0, 0])"
            ]
          },
          "metadata": {
            "tags": []
          },
          "execution_count": 146
        }
      ]
    },
    {
      "cell_type": "code",
      "metadata": {
        "id": "HwnMx9xgGaCT",
        "colab_type": "code",
        "colab": {
          "base_uri": "https://localhost:8080/",
          "height": 34
        },
        "outputId": "d580da23-9729-49af-8ad8-3c5daa07a82c"
      },
      "source": [
        "from sklearn.metrics import accuracy_score\n",
        "accuracy_score(y_test,y_pred)"
      ],
      "execution_count": 147,
      "outputs": [
        {
          "output_type": "execute_result",
          "data": {
            "text/plain": [
              "1.0"
            ]
          },
          "metadata": {
            "tags": []
          },
          "execution_count": 147
        }
      ]
    },
    {
      "cell_type": "code",
      "metadata": {
        "id": "4hUMl6wrGgeJ",
        "colab_type": "code",
        "colab": {
          "base_uri": "https://localhost:8080/",
          "height": 142
        },
        "outputId": "65cb780f-7b6d-4d93-8d73-6269ac02234a"
      },
      "source": [
        "from sklearn.ensemble import RandomForestRegressor\n",
        "Rf=RandomForestRegressor(n_estimators=10,random_state=0,n_jobs=-1)\n",
        "Rf.fit(x_train,y_train)"
      ],
      "execution_count": 148,
      "outputs": [
        {
          "output_type": "execute_result",
          "data": {
            "text/plain": [
              "RandomForestRegressor(bootstrap=True, ccp_alpha=0.0, criterion='mse',\n",
              "                      max_depth=None, max_features='auto', max_leaf_nodes=None,\n",
              "                      max_samples=None, min_impurity_decrease=0.0,\n",
              "                      min_impurity_split=None, min_samples_leaf=1,\n",
              "                      min_samples_split=2, min_weight_fraction_leaf=0.0,\n",
              "                      n_estimators=10, n_jobs=-1, oob_score=False,\n",
              "                      random_state=0, verbose=0, warm_start=False)"
            ]
          },
          "metadata": {
            "tags": []
          },
          "execution_count": 148
        }
      ]
    },
    {
      "cell_type": "code",
      "metadata": {
        "id": "QxelfwsMHGd1",
        "colab_type": "code",
        "colab": {
          "base_uri": "https://localhost:8080/",
          "height": 160
        },
        "outputId": "3f87bde7-5db2-4692-bf6f-297d84f36ef1"
      },
      "source": [
        "y_pred=Rf.predict(x_test)\n",
        "y_pred"
      ],
      "execution_count": 149,
      "outputs": [
        {
          "output_type": "execute_result",
          "data": {
            "text/plain": [
              "array([2., 1., 1., 2., 2., 1., 2., 2., 2., 0., 0., 3., 2., 1., 0., 3., 1.,\n",
              "       0., 2., 2., 2., 1., 2., 3., 3., 2., 2., 1., 3., 2., 0., 0., 3., 0.,\n",
              "       3., 2., 3., 0., 0., 0., 2., 0., 0., 2., 2., 0., 2., 0., 0., 1., 3.,\n",
              "       0., 3., 2., 0., 2., 0., 3., 0., 2., 3., 3., 2., 2., 3., 0., 1., 1.,\n",
              "       0., 1., 2., 3., 2., 0., 2., 2., 3., 0., 0., 0., 3., 3., 0., 0., 0.,\n",
              "       3., 2., 2., 3., 3., 0., 0., 0., 2., 2., 2., 0., 0., 0., 3., 0., 3.,\n",
              "       0., 3., 2., 0., 0., 3., 2., 2., 1., 1., 0., 2., 0., 0., 3., 3., 2.,\n",
              "       0., 0., 2., 0., 0.])"
            ]
          },
          "metadata": {
            "tags": []
          },
          "execution_count": 149
        }
      ]
    },
    {
      "cell_type": "code",
      "metadata": {
        "id": "a1Q3cHbYHMs4",
        "colab_type": "code",
        "colab": {
          "base_uri": "https://localhost:8080/",
          "height": 232
        },
        "outputId": "acbb4840-f0c8-4ed2-8d2c-d1d5fc1926cc"
      },
      "source": [
        "y_test"
      ],
      "execution_count": 150,
      "outputs": [
        {
          "output_type": "execute_result",
          "data": {
            "text/plain": [
              "389    2\n",
              "458    1\n",
              "436    1\n",
              "367    2\n",
              "375    2\n",
              "      ..\n",
              "75     0\n",
              "10     0\n",
              "211    2\n",
              "157    0\n",
              "122    0\n",
              "Name: class, Length: 124, dtype: int64"
            ]
          },
          "metadata": {
            "tags": []
          },
          "execution_count": 150
        }
      ]
    },
    {
      "cell_type": "code",
      "metadata": {
        "id": "pRSczgIbHS2I",
        "colab_type": "code",
        "colab": {}
      },
      "source": [
        "from sklearn.metrics import r2_score"
      ],
      "execution_count": 151,
      "outputs": []
    },
    {
      "cell_type": "code",
      "metadata": {
        "id": "VsibFGYDHYAy",
        "colab_type": "code",
        "colab": {
          "base_uri": "https://localhost:8080/",
          "height": 34
        },
        "outputId": "92ae9d69-a99a-40e1-f00b-cfdaa3b319cd"
      },
      "source": [
        "r2_score(y_test,y_pred)"
      ],
      "execution_count": 152,
      "outputs": [
        {
          "output_type": "execute_result",
          "data": {
            "text/plain": [
              "1.0"
            ]
          },
          "metadata": {
            "tags": []
          },
          "execution_count": 152
        }
      ]
    },
    {
      "cell_type": "code",
      "metadata": {
        "id": "MGSAPI-UHa6g",
        "colab_type": "code",
        "colab": {}
      },
      "source": [
        "#svm"
      ],
      "execution_count": 153,
      "outputs": []
    },
    {
      "cell_type": "code",
      "metadata": {
        "id": "OM-kvkfFIDBP",
        "colab_type": "code",
        "colab": {}
      },
      "source": [
        "from sklearn.svm import SVC\n",
        "from sklearn.preprocessing import StandardScaler#Feature scaling\n",
        "from sklearn.pipeline import Pipeline # Pipeline\n",
        "pipe = Pipeline([\n",
        "    ('rescale', StandardScaler()),\n",
        "    ('classifier', SVC(kernel='rbf'))\n",
        "])\n"
      ],
      "execution_count": 154,
      "outputs": []
    },
    {
      "cell_type": "code",
      "metadata": {
        "id": "jyqctkJSIFnH",
        "colab_type": "code",
        "colab": {
          "base_uri": "https://localhost:8080/",
          "height": 196
        },
        "outputId": "cda6c140-8def-4da4-de60-344fd0f5c07b"
      },
      "source": [
        "pipe.fit(x_train,y_train)"
      ],
      "execution_count": 155,
      "outputs": [
        {
          "output_type": "execute_result",
          "data": {
            "text/plain": [
              "Pipeline(memory=None,\n",
              "         steps=[('rescale',\n",
              "                 StandardScaler(copy=True, with_mean=True, with_std=True)),\n",
              "                ('classifier',\n",
              "                 SVC(C=1.0, break_ties=False, cache_size=200, class_weight=None,\n",
              "                     coef0=0.0, decision_function_shape='ovr', degree=3,\n",
              "                     gamma='scale', kernel='rbf', max_iter=-1,\n",
              "                     probability=False, random_state=None, shrinking=True,\n",
              "                     tol=0.001, verbose=False))],\n",
              "         verbose=False)"
            ]
          },
          "metadata": {
            "tags": []
          },
          "execution_count": 155
        }
      ]
    },
    {
      "cell_type": "code",
      "metadata": {
        "id": "7OMwITOCIJlN",
        "colab_type": "code",
        "colab": {
          "base_uri": "https://localhost:8080/",
          "height": 124
        },
        "outputId": "c54c175b-d59a-43ce-b070-3ea5117926df"
      },
      "source": [
        "y_pred=pipe.predict(x_test)\n",
        "y_pred"
      ],
      "execution_count": 156,
      "outputs": [
        {
          "output_type": "execute_result",
          "data": {
            "text/plain": [
              "array([2, 1, 1, 2, 2, 1, 2, 2, 2, 0, 0, 3, 2, 1, 0, 3, 1, 0, 2, 2, 2, 1,\n",
              "       2, 3, 3, 2, 2, 1, 3, 2, 0, 0, 3, 0, 3, 2, 3, 0, 0, 0, 2, 0, 0, 2,\n",
              "       2, 0, 2, 0, 0, 1, 3, 0, 3, 2, 0, 1, 0, 3, 0, 2, 3, 3, 2, 2, 3, 0,\n",
              "       1, 1, 0, 1, 2, 3, 2, 0, 2, 2, 3, 0, 0, 0, 3, 3, 0, 0, 0, 3, 2, 2,\n",
              "       3, 3, 0, 0, 0, 2, 2, 2, 0, 0, 0, 3, 0, 3, 0, 3, 2, 0, 0, 3, 2, 2,\n",
              "       2, 1, 0, 2, 0, 0, 3, 3, 2, 0, 0, 2, 0, 0])"
            ]
          },
          "metadata": {
            "tags": []
          },
          "execution_count": 156
        }
      ]
    },
    {
      "cell_type": "code",
      "metadata": {
        "id": "59fCllJeIPSg",
        "colab_type": "code",
        "colab": {
          "base_uri": "https://localhost:8080/",
          "height": 232
        },
        "outputId": "6887715b-58ca-488c-8382-479e126d8acf"
      },
      "source": [
        "y_test"
      ],
      "execution_count": 157,
      "outputs": [
        {
          "output_type": "execute_result",
          "data": {
            "text/plain": [
              "389    2\n",
              "458    1\n",
              "436    1\n",
              "367    2\n",
              "375    2\n",
              "      ..\n",
              "75     0\n",
              "10     0\n",
              "211    2\n",
              "157    0\n",
              "122    0\n",
              "Name: class, Length: 124, dtype: int64"
            ]
          },
          "metadata": {
            "tags": []
          },
          "execution_count": 157
        }
      ]
    },
    {
      "cell_type": "code",
      "metadata": {
        "id": "8_6JbypQISel",
        "colab_type": "code",
        "colab": {
          "base_uri": "https://localhost:8080/",
          "height": 34
        },
        "outputId": "d6449b0a-c6dd-4652-b081-02336a646564"
      },
      "source": [
        "from sklearn.metrics import accuracy_score\n",
        "accuracy_score(y_test,y_pred)"
      ],
      "execution_count": 158,
      "outputs": [
        {
          "output_type": "execute_result",
          "data": {
            "text/plain": [
              "0.9838709677419355"
            ]
          },
          "metadata": {
            "tags": []
          },
          "execution_count": 158
        }
      ]
    },
    {
      "cell_type": "code",
      "metadata": {
        "id": "axiCojH8Idcv",
        "colab_type": "code",
        "colab": {}
      },
      "source": [
        "#KNN"
      ],
      "execution_count": 159,
      "outputs": []
    },
    {
      "cell_type": "code",
      "metadata": {
        "id": "pDT57wJqJoSG",
        "colab_type": "code",
        "colab": {}
      },
      "source": [
        "from sklearn.neighbors import KNeighborsClassifier\n",
        "from sklearn.preprocessing import StandardScaler#Feature scaling\n",
        "from sklearn.pipeline import Pipeline # Pipeline\n",
        "pipe = Pipeline([\n",
        "    ('rescale', StandardScaler()),\n",
        "    ('classifier', KNeighborsClassifier())\n",
        "])"
      ],
      "execution_count": 160,
      "outputs": []
    },
    {
      "cell_type": "code",
      "metadata": {
        "id": "w34kICN6Jpx4",
        "colab_type": "code",
        "colab": {
          "base_uri": "https://localhost:8080/",
          "height": 178
        },
        "outputId": "331f8c0f-31ce-4cd7-bd8f-4f941062c814"
      },
      "source": [
        "pipe.fit(x_train,y_train)"
      ],
      "execution_count": 161,
      "outputs": [
        {
          "output_type": "execute_result",
          "data": {
            "text/plain": [
              "Pipeline(memory=None,\n",
              "         steps=[('rescale',\n",
              "                 StandardScaler(copy=True, with_mean=True, with_std=True)),\n",
              "                ('classifier',\n",
              "                 KNeighborsClassifier(algorithm='auto', leaf_size=30,\n",
              "                                      metric='minkowski', metric_params=None,\n",
              "                                      n_jobs=None, n_neighbors=5, p=2,\n",
              "                                      weights='uniform'))],\n",
              "         verbose=False)"
            ]
          },
          "metadata": {
            "tags": []
          },
          "execution_count": 161
        }
      ]
    },
    {
      "cell_type": "code",
      "metadata": {
        "id": "z26yRjCxJuMR",
        "colab_type": "code",
        "colab": {
          "base_uri": "https://localhost:8080/",
          "height": 124
        },
        "outputId": "208b7521-fcb1-452d-9ff4-dcba7b537c0a"
      },
      "source": [
        "y_pred=pipe.predict(x_test)\n",
        "y_pred"
      ],
      "execution_count": 162,
      "outputs": [
        {
          "output_type": "execute_result",
          "data": {
            "text/plain": [
              "array([2, 1, 1, 2, 2, 2, 2, 2, 2, 0, 0, 3, 2, 2, 0, 3, 1, 0, 2, 2, 2, 1,\n",
              "       2, 3, 3, 2, 2, 1, 3, 2, 2, 0, 3, 0, 3, 2, 3, 0, 0, 0, 2, 0, 0, 2,\n",
              "       2, 0, 2, 2, 0, 1, 3, 0, 3, 2, 0, 2, 0, 3, 0, 2, 3, 3, 2, 2, 3, 0,\n",
              "       1, 1, 0, 1, 2, 3, 2, 0, 2, 2, 3, 0, 0, 0, 3, 3, 0, 0, 0, 3, 2, 2,\n",
              "       3, 3, 0, 0, 0, 2, 2, 3, 0, 0, 0, 3, 0, 3, 0, 3, 2, 0, 0, 3, 2, 2,\n",
              "       2, 1, 0, 2, 0, 0, 3, 3, 2, 0, 0, 2, 0, 0])"
            ]
          },
          "metadata": {
            "tags": []
          },
          "execution_count": 162
        }
      ]
    },
    {
      "cell_type": "code",
      "metadata": {
        "id": "9myfUDjHJx4C",
        "colab_type": "code",
        "colab": {
          "base_uri": "https://localhost:8080/",
          "height": 232
        },
        "outputId": "2b697a77-e6b7-405c-a45d-25a245157445"
      },
      "source": [
        "y_test"
      ],
      "execution_count": 163,
      "outputs": [
        {
          "output_type": "execute_result",
          "data": {
            "text/plain": [
              "389    2\n",
              "458    1\n",
              "436    1\n",
              "367    2\n",
              "375    2\n",
              "      ..\n",
              "75     0\n",
              "10     0\n",
              "211    2\n",
              "157    0\n",
              "122    0\n",
              "Name: class, Length: 124, dtype: int64"
            ]
          },
          "metadata": {
            "tags": []
          },
          "execution_count": 163
        }
      ]
    },
    {
      "cell_type": "code",
      "metadata": {
        "id": "lWcTwh8lJ13o",
        "colab_type": "code",
        "colab": {}
      },
      "source": [
        "from sklearn.metrics import confusion_matrix\n",
        "cm=confusion_matrix(y_test,y_pred)"
      ],
      "execution_count": 164,
      "outputs": []
    },
    {
      "cell_type": "code",
      "metadata": {
        "id": "OxyDIQmnKALb",
        "colab_type": "code",
        "colab": {
          "base_uri": "https://localhost:8080/",
          "height": 88
        },
        "outputId": "71d5ab38-de68-4e83-9370-b0df37104c03"
      },
      "source": [
        "cm"
      ],
      "execution_count": 165,
      "outputs": [
        {
          "output_type": "execute_result",
          "data": {
            "text/plain": [
              "array([[43,  0,  2,  0],\n",
              "       [ 0, 10,  3,  0],\n",
              "       [ 0,  0, 38,  1],\n",
              "       [ 0,  0,  0, 27]])"
            ]
          },
          "metadata": {
            "tags": []
          },
          "execution_count": 165
        }
      ]
    },
    {
      "cell_type": "code",
      "metadata": {
        "id": "FoL6eOidKFu4",
        "colab_type": "code",
        "colab": {
          "base_uri": "https://localhost:8080/",
          "height": 34
        },
        "outputId": "87c02aef-32e4-4c4e-d2c1-950c8fea47c4"
      },
      "source": [
        "from sklearn.metrics import accuracy_score\n",
        "accuracy_score(y_test,y_pred)"
      ],
      "execution_count": 166,
      "outputs": [
        {
          "output_type": "execute_result",
          "data": {
            "text/plain": [
              "0.9516129032258065"
            ]
          },
          "metadata": {
            "tags": []
          },
          "execution_count": 166
        }
      ]
    },
    {
      "cell_type": "code",
      "metadata": {
        "id": "_AeMg8YaMo73",
        "colab_type": "code",
        "colab": {}
      },
      "source": [
        "import statistics "
      ],
      "execution_count": 167,
      "outputs": []
    },
    {
      "cell_type": "code",
      "metadata": {
        "id": "l0_m-6kXKOYY",
        "colab_type": "code",
        "colab": {
          "base_uri": "https://localhost:8080/",
          "height": 180
        },
        "outputId": "a95d7030-448a-422b-82ad-eaa74127c3e4"
      },
      "source": [
        "model1 = DecisionTreeClassifier()\n",
        "model2 = KNeighborsClassifier()\n",
        "model3= LogisticRegression()\n",
        "\n",
        "model1.fit(x_train,y_train)\n",
        "model2.fit(x_train,y_train)\n",
        "model3.fit(x_train,y_train)\n",
        "\n",
        "pred1=model1.predict(x_test)\n",
        "pred2=model2.predict(x_test)\n",
        "pred3=model3.predict(x_test)\n",
        "\n",
        "final_pred = np.array([])\n",
        "for i in range(0,len(x_test)):\n",
        "    final_pred = np.append(final_pred, ([pred1[i], pred2[i], pred3[i]]))"
      ],
      "execution_count": 168,
      "outputs": [
        {
          "output_type": "stream",
          "text": [
            "/usr/local/lib/python3.6/dist-packages/sklearn/linear_model/_logistic.py:940: ConvergenceWarning: lbfgs failed to converge (status=1):\n",
            "STOP: TOTAL NO. of ITERATIONS REACHED LIMIT.\n",
            "\n",
            "Increase the number of iterations (max_iter) or scale the data as shown in:\n",
            "    https://scikit-learn.org/stable/modules/preprocessing.html\n",
            "Please also refer to the documentation for alternative solver options:\n",
            "    https://scikit-learn.org/stable/modules/linear_model.html#logistic-regression\n",
            "  extra_warning_msg=_LOGISTIC_SOLVER_CONVERGENCE_MSG)\n"
          ],
          "name": "stderr"
        }
      ]
    },
    {
      "cell_type": "code",
      "metadata": {
        "id": "TyLjgIhzN1EA",
        "colab_type": "code",
        "colab": {
          "base_uri": "https://localhost:8080/",
          "height": 412
        },
        "outputId": "5984c15b-0d04-4643-a650-98d519e8f9d2"
      },
      "source": [
        "final_pred"
      ],
      "execution_count": 169,
      "outputs": [
        {
          "output_type": "execute_result",
          "data": {
            "text/plain": [
              "array([2., 2., 2., 1., 1., 1., 1., 1., 1., 2., 2., 2., 2., 2., 2., 1., 1.,\n",
              "       1., 2., 2., 2., 2., 2., 2., 2., 2., 2., 0., 0., 0., 0., 0., 0., 3.,\n",
              "       3., 3., 2., 2., 2., 1., 1., 1., 0., 0., 0., 3., 3., 3., 1., 1., 1.,\n",
              "       0., 0., 0., 2., 2., 2., 2., 2., 2., 2., 2., 2., 1., 1., 1., 2., 2.,\n",
              "       2., 3., 3., 3., 3., 3., 3., 2., 2., 2., 2., 2., 2., 1., 1., 1., 3.,\n",
              "       3., 3., 2., 2., 2., 0., 0., 0., 0., 0., 0., 3., 3., 3., 0., 0., 0.,\n",
              "       3., 3., 3., 2., 2., 2., 3., 3., 3., 0., 0., 0., 0., 0., 0., 0., 0.,\n",
              "       0., 2., 2., 2., 0., 0., 0., 0., 0., 0., 2., 2., 2., 2., 2., 2., 0.,\n",
              "       0., 0., 2., 2., 2., 0., 0., 0., 0., 0., 0., 1., 1., 2., 3., 3., 3.,\n",
              "       0., 0., 0., 3., 3., 3., 2., 2., 2., 0., 0., 0., 2., 2., 2., 0., 0.,\n",
              "       0., 3., 3., 3., 0., 0., 0., 2., 2., 2., 3., 3., 3., 3., 3., 3., 2.,\n",
              "       2., 2., 2., 2., 2., 3., 3., 3., 0., 0., 0., 1., 1., 1., 1., 1., 1.,\n",
              "       0., 0., 0., 1., 1., 1., 2., 2., 2., 3., 3., 3., 2., 2., 2., 0., 0.,\n",
              "       0., 2., 2., 2., 2., 2., 2., 3., 3., 3., 0., 0., 2., 0., 0., 0., 0.,\n",
              "       0., 0., 3., 3., 3., 3., 3., 3., 0., 0., 0., 0., 0., 0., 0., 0., 0.,\n",
              "       3., 3., 3., 2., 2., 2., 2., 2., 2., 3., 3., 3., 3., 3., 3., 0., 0.,\n",
              "       0., 0., 0., 0., 0., 0., 0., 2., 2., 2., 2., 2., 2., 2., 2., 2., 0.,\n",
              "       0., 0., 0., 0., 0., 0., 0., 0., 3., 3., 3., 0., 0., 0., 3., 3., 3.,\n",
              "       0., 0., 0., 3., 3., 3., 2., 2., 2., 0., 0., 0., 0., 0., 0., 3., 3.,\n",
              "       3., 2., 2., 2., 2., 2., 2., 1., 1., 1., 1., 1., 1., 0., 0., 0., 2.,\n",
              "       2., 2., 0., 0., 0., 0., 0., 0., 3., 3., 3., 3., 3., 3., 2., 2., 2.,\n",
              "       0., 0., 0., 0., 0., 0., 2., 2., 2., 0., 0., 0., 0., 0., 0.])"
            ]
          },
          "metadata": {
            "tags": []
          },
          "execution_count": 169
        }
      ]
    },
    {
      "cell_type": "code",
      "metadata": {
        "id": "hYh-YhyuN8mZ",
        "colab_type": "code",
        "colab": {}
      },
      "source": [
        "#Bagging"
      ],
      "execution_count": 170,
      "outputs": []
    },
    {
      "cell_type": "code",
      "metadata": {
        "id": "JaAVlR4yRIep",
        "colab_type": "code",
        "colab": {}
      },
      "source": [
        "#Bagging meta-estimator"
      ],
      "execution_count": 171,
      "outputs": []
    },
    {
      "cell_type": "code",
      "metadata": {
        "id": "FAWkn2ZJQY18",
        "colab_type": "code",
        "colab": {
          "base_uri": "https://localhost:8080/",
          "height": 34
        },
        "outputId": "e4a3c2cd-90f7-49ac-a6c2-ec931c4a3fc6"
      },
      "source": [
        "from sklearn.ensemble import BaggingClassifier\n",
        "from sklearn import tree\n",
        "model = BaggingClassifier(tree.DecisionTreeClassifier(random_state=1))\n",
        "model.fit(x_train, y_train)\n",
        "model.score(x_test,y_test)"
      ],
      "execution_count": 172,
      "outputs": [
        {
          "output_type": "execute_result",
          "data": {
            "text/plain": [
              "1.0"
            ]
          },
          "metadata": {
            "tags": []
          },
          "execution_count": 172
        }
      ]
    },
    {
      "cell_type": "code",
      "metadata": {
        "id": "DaYOptaDQfvG",
        "colab_type": "code",
        "colab": {}
      },
      "source": [
        "import pandas as pd\n",
        "from sklearn.ensemble import RandomForestClassifier\n",
        "from sklearn.metrics import accuracy_score"
      ],
      "execution_count": 173,
      "outputs": []
    },
    {
      "cell_type": "code",
      "metadata": {
        "id": "pzVG1hyKSFRF",
        "colab_type": "code",
        "colab": {}
      },
      "source": [
        "#random forest bagging"
      ],
      "execution_count": 174,
      "outputs": []
    },
    {
      "cell_type": "code",
      "metadata": {
        "id": "CBwJmrJNS-6E",
        "colab_type": "code",
        "colab": {}
      },
      "source": [
        "model = RandomForestClassifier()"
      ],
      "execution_count": 175,
      "outputs": []
    },
    {
      "cell_type": "code",
      "metadata": {
        "id": "FtvhgpyvTCoQ",
        "colab_type": "code",
        "colab": {
          "base_uri": "https://localhost:8080/",
          "height": 466
        },
        "outputId": "298cf1c2-5069-4843-869b-febb5df947bb"
      },
      "source": [
        "# fit the model with the training data\n",
        "model.fit(x_train,y_train)\n",
        "\n",
        "# number of trees used\n",
        "print('Number of Trees used : ', model.n_estimators)\n",
        "\n",
        "# predict the target on the train dataset\n",
        "predict_train = model.predict(x_train)\n",
        "print('\\nTarget on train data',predict_train) \n",
        "\n",
        "# Accuray Score on train dataset\n",
        "accuracy_train = accuracy_score(y_train,predict_train)\n",
        "print('\\naccuracy_score on train dataset : ', accuracy_train)\n",
        "\n",
        "# predict the target on the test dataset\n",
        "predict_test = model.predict(x_test)\n",
        "print('\\nTarget on test data',predict_test) \n",
        "\n",
        "# Accuracy Score on test dataset\n",
        "accuracy_test = accuracy_score(y_test,predict_test)\n",
        "print('\\naccuracy_score on test dataset : ', accuracy_test)"
      ],
      "execution_count": 176,
      "outputs": [
        {
          "output_type": "stream",
          "text": [
            "Number of Trees used :  100\n",
            "\n",
            "Target on train data [3 2 2 2 2 1 0 3 2 0 3 3 1 3 2 3 2 0 2 0 3 2 0 1 1 1 2 0 3 3 0 0 3 2 2 0 3\n",
            " 3 2 2 0 2 2 0 2 0 2 0 1 0 2 3 2 2 1 2 0 0 3 3 0 2 2 2 1 1 1 2 0 2 3 3 0 2\n",
            " 1 2 3 2 2 0 3 0 3 0 0 0 2 3 3 3 0 3 2 2 0 2 2 2 1 3 0 0 2 0 3 0 0 3 0 0 3\n",
            " 1 2 3 2 2 3 1 0 2 3 0 2 3 0 3 2 3 3 2 0 1 0 0 0 0 0 2 1 3 0 0 2 2 2 2 3 0\n",
            " 2 2 0 0 3 2 2 3 0 0 0 0 2 3 2 0 0 2 2 2 0 2 0 3 1 3 2 0 0 3 0 2 3 0 2 2 3\n",
            " 3 2 2 3 0 0 3 1 3 3 3 0 3 2 2 1 1 0 0 0 3 3 0 0 3 0 0 2 3 2 3 1 0 3 3 1 3\n",
            " 0 0 0 0 2 3 1 2 2 2 0 0 2 2 3 0 2 2 3 3 0 2 3 3 3 0 3 2 0 2 1 3 3 3 1 0 3\n",
            " 2 2 1 2 3 3 2 2 0 0 0 2 0 2 2 0 0 3 2 3 1 1 2 2 2 3 2 2 0 2 2 0 3 0 3 3 3\n",
            " 2 3 2 0 2 1 0 0 1 3 0 2 0 3 3 3 2 3 0 2 3 0 2 2 0 0 2 2 2 3 2 0 2 0 0 2 0\n",
            " 1 0 2 3 0 3 3 2 0 2 2 0 2 2 1 2 0 0 1 0 2 3 3 1 0 0 0 1 0 0 3 2 0 3 1 3 0\n",
            " 2 1 2 2 2 2 3 2 3 2 1 1 3 3 0 2 2 3 2 2 0 2 2 3 1 0 2 3 2 3 0 0 0 2 0 0 0\n",
            " 0 0 0 1 0 0 0 0 2 0 0 3 2 3 2 0 2 2 2 2 0 0 3 0 2 2 2 0 0 0 0 2 0 0 2 0 0\n",
            " 1 0 2 0 2 2 3 1 0 2 2 2 3 3 0 3 0 0 0 1 3 0 2 3 3 2 2 1 0 0 0 1 1 0 0 3 3\n",
            " 0 0 3 3 2 2 3 3 0 3 2 0 2 0 3]\n",
            "\n",
            "accuracy_score on train dataset :  1.0\n",
            "\n",
            "Target on test data [2 1 1 2 2 1 2 2 2 0 0 3 2 1 0 3 1 0 2 2 2 1 2 3 3 2 2 1 3 2 0 0 3 0 3 2 3\n",
            " 0 0 0 2 0 0 2 2 0 2 0 0 1 3 0 3 2 0 2 0 3 0 2 3 3 2 2 3 0 1 1 0 1 2 3 2 0\n",
            " 2 2 3 0 0 0 3 3 0 0 0 3 2 2 3 3 0 0 0 2 2 2 0 0 0 3 0 3 0 3 2 0 0 3 2 2 1\n",
            " 1 0 2 0 0 3 3 2 0 0 2 0 0]\n",
            "\n",
            "accuracy_score on test dataset :  1.0\n"
          ],
          "name": "stdout"
        }
      ]
    },
    {
      "cell_type": "code",
      "metadata": {
        "id": "W9uRwur2TILy",
        "colab_type": "code",
        "colab": {}
      },
      "source": [
        "#boosting"
      ],
      "execution_count": 177,
      "outputs": []
    },
    {
      "cell_type": "code",
      "metadata": {
        "id": "Thu4wWQhUezc",
        "colab_type": "code",
        "colab": {}
      },
      "source": [
        "#ADABOOST"
      ],
      "execution_count": 178,
      "outputs": []
    },
    {
      "cell_type": "code",
      "metadata": {
        "id": "0d7rFe66UhKH",
        "colab_type": "code",
        "colab": {
          "base_uri": "https://localhost:8080/",
          "height": 34
        },
        "outputId": "c350402c-c031-4937-9674-517a1961c7fe"
      },
      "source": [
        "from sklearn.ensemble import AdaBoostClassifier\n",
        "model = AdaBoostClassifier(random_state=1)\n",
        "model.fit(x_train, y_train)\n",
        "model.score(x_test,y_test)"
      ],
      "execution_count": 179,
      "outputs": [
        {
          "output_type": "execute_result",
          "data": {
            "text/plain": [
              "0.8951612903225806"
            ]
          },
          "metadata": {
            "tags": []
          },
          "execution_count": 179
        }
      ]
    },
    {
      "cell_type": "code",
      "metadata": {
        "id": "MB6fEjTIUlq6",
        "colab_type": "code",
        "colab": {}
      },
      "source": [
        "#GRADIENTBOSTING"
      ],
      "execution_count": 180,
      "outputs": []
    },
    {
      "cell_type": "code",
      "metadata": {
        "id": "8T2c6nS7Ur-0",
        "colab_type": "code",
        "colab": {
          "base_uri": "https://localhost:8080/",
          "height": 34
        },
        "outputId": "11bfb8b7-d320-4670-b78e-7514652329fc"
      },
      "source": [
        "from sklearn.ensemble import GradientBoostingClassifier\n",
        "model= GradientBoostingClassifier(learning_rate=0.01,random_state=1)\n",
        "model.fit(x_train, y_train)\n",
        "model.score(x_test,y_test)"
      ],
      "execution_count": 181,
      "outputs": [
        {
          "output_type": "execute_result",
          "data": {
            "text/plain": [
              "1.0"
            ]
          },
          "metadata": {
            "tags": []
          },
          "execution_count": 181
        }
      ]
    },
    {
      "cell_type": "code",
      "metadata": {
        "id": "edFGOcsuUvVv",
        "colab_type": "code",
        "colab": {}
      },
      "source": [
        "#XGBOOST"
      ],
      "execution_count": 182,
      "outputs": []
    },
    {
      "cell_type": "code",
      "metadata": {
        "id": "_-maIN-9U2YZ",
        "colab_type": "code",
        "colab": {
          "base_uri": "https://localhost:8080/",
          "height": 34
        },
        "outputId": "025c4c56-e918-43f5-d2b7-514017d2d5d4"
      },
      "source": [
        "import xgboost as xgb\n",
        "model=xgb.XGBClassifier(random_state=1,learning_rate=0.01)\n",
        "model.fit(x_train, y_train)\n",
        "model.score(x_test,y_test)"
      ],
      "execution_count": 183,
      "outputs": [
        {
          "output_type": "execute_result",
          "data": {
            "text/plain": [
              "1.0"
            ]
          },
          "metadata": {
            "tags": []
          },
          "execution_count": 183
        }
      ]
    },
    {
      "cell_type": "code",
      "metadata": {
        "id": "yGU2_KfTU6DN",
        "colab_type": "code",
        "colab": {}
      },
      "source": [
        "#LIGHTGBM"
      ],
      "execution_count": 184,
      "outputs": []
    },
    {
      "cell_type": "code",
      "metadata": {
        "id": "-3ot8Ss2VBkd",
        "colab_type": "code",
        "colab": {
          "base_uri": "https://localhost:8080/",
          "height": 243
        },
        "outputId": "2de996bd-2b03-4ef1-dda8-64ad05cfce43"
      },
      "source": [
        "import lightgbm as lgb\n",
        "train_data=lgb.Dataset(x_train,label=y_train)\n",
        "#define parameters\n",
        "params = {'learning_rate':0.001}\n",
        "model= lgb.train(params, train_data, 100) \n",
        "y_pred=model.predict(x_test)\n",
        "for i in range(0,185):\n",
        "  if y_pred[i]>=0.5: \n",
        "    y_pred[i]=1\n",
        "  else: \n",
        "    y_pred[i]=0"
      ],
      "execution_count": 185,
      "outputs": [
        {
          "output_type": "error",
          "ename": "IndexError",
          "evalue": "ignored",
          "traceback": [
            "\u001b[0;31m---------------------------------------------------------------------------\u001b[0m",
            "\u001b[0;31mIndexError\u001b[0m                                Traceback (most recent call last)",
            "\u001b[0;32m<ipython-input-185-cfe59b30d6ee>\u001b[0m in \u001b[0;36m<module>\u001b[0;34m()\u001b[0m\n\u001b[1;32m      6\u001b[0m \u001b[0my_pred\u001b[0m\u001b[0;34m=\u001b[0m\u001b[0mmodel\u001b[0m\u001b[0;34m.\u001b[0m\u001b[0mpredict\u001b[0m\u001b[0;34m(\u001b[0m\u001b[0mx_test\u001b[0m\u001b[0;34m)\u001b[0m\u001b[0;34m\u001b[0m\u001b[0;34m\u001b[0m\u001b[0m\n\u001b[1;32m      7\u001b[0m \u001b[0;32mfor\u001b[0m \u001b[0mi\u001b[0m \u001b[0;32min\u001b[0m \u001b[0mrange\u001b[0m\u001b[0;34m(\u001b[0m\u001b[0;36m0\u001b[0m\u001b[0;34m,\u001b[0m\u001b[0;36m185\u001b[0m\u001b[0;34m)\u001b[0m\u001b[0;34m:\u001b[0m\u001b[0;34m\u001b[0m\u001b[0;34m\u001b[0m\u001b[0m\n\u001b[0;32m----> 8\u001b[0;31m   \u001b[0;32mif\u001b[0m \u001b[0my_pred\u001b[0m\u001b[0;34m[\u001b[0m\u001b[0mi\u001b[0m\u001b[0;34m]\u001b[0m\u001b[0;34m>=\u001b[0m\u001b[0;36m0.5\u001b[0m\u001b[0;34m:\u001b[0m\u001b[0;34m\u001b[0m\u001b[0;34m\u001b[0m\u001b[0m\n\u001b[0m\u001b[1;32m      9\u001b[0m     \u001b[0my_pred\u001b[0m\u001b[0;34m[\u001b[0m\u001b[0mi\u001b[0m\u001b[0;34m]\u001b[0m\u001b[0;34m=\u001b[0m\u001b[0;36m1\u001b[0m\u001b[0;34m\u001b[0m\u001b[0;34m\u001b[0m\u001b[0m\n\u001b[1;32m     10\u001b[0m   \u001b[0;32melse\u001b[0m\u001b[0;34m:\u001b[0m\u001b[0;34m\u001b[0m\u001b[0;34m\u001b[0m\u001b[0m\n",
            "\u001b[0;31mIndexError\u001b[0m: index 124 is out of bounds for axis 0 with size 124"
          ]
        }
      ]
    },
    {
      "cell_type": "code",
      "metadata": {
        "id": "q_zlszxyVEuX",
        "colab_type": "code",
        "colab": {
          "base_uri": "https://localhost:8080/",
          "height": 160
        },
        "outputId": "634afdf0-cebd-4858-9e13-9d3e33c82613"
      },
      "source": [
        "y_pred"
      ],
      "execution_count": 186,
      "outputs": [
        {
          "output_type": "execute_result",
          "data": {
            "text/plain": [
              "array([1., 1., 1., 1., 1., 1., 1., 1., 1., 1., 1., 1., 1., 1., 1., 1., 1.,\n",
              "       1., 1., 1., 1., 1., 1., 1., 1., 1., 1., 1., 1., 1., 1., 1., 1., 1.,\n",
              "       1., 1., 1., 1., 1., 1., 1., 1., 1., 1., 1., 1., 1., 1., 1., 1., 1.,\n",
              "       1., 1., 1., 1., 1., 1., 1., 1., 1., 1., 1., 1., 1., 1., 1., 1., 1.,\n",
              "       1., 1., 1., 1., 1., 1., 1., 1., 1., 1., 1., 1., 1., 1., 1., 1., 1.,\n",
              "       1., 1., 1., 1., 1., 1., 1., 1., 1., 1., 1., 1., 1., 1., 1., 1., 1.,\n",
              "       1., 1., 1., 1., 1., 1., 1., 1., 1., 1., 1., 1., 1., 1., 1., 1., 1.,\n",
              "       1., 1., 1., 1., 1.])"
            ]
          },
          "metadata": {
            "tags": []
          },
          "execution_count": 186
        }
      ]
    },
    {
      "cell_type": "code",
      "metadata": {
        "id": "1Mmf6JCBVWAb",
        "colab_type": "code",
        "colab": {}
      },
      "source": [
        "#CATBOOST"
      ],
      "execution_count": 187,
      "outputs": []
    },
    {
      "cell_type": "code",
      "metadata": {
        "id": "Et6aOdLIV1t3",
        "colab_type": "code",
        "colab": {
          "base_uri": "https://localhost:8080/",
          "height": 288
        },
        "outputId": "e0548627-f948-4fad-be3b-32520e86fed6"
      },
      "source": [
        "!pip3 install catboost"
      ],
      "execution_count": 188,
      "outputs": [
        {
          "output_type": "stream",
          "text": [
            "Requirement already satisfied: catboost in /usr/local/lib/python3.6/dist-packages (0.23.2)\n",
            "Requirement already satisfied: graphviz in /usr/local/lib/python3.6/dist-packages (from catboost) (0.10.1)\n",
            "Requirement already satisfied: scipy in /usr/local/lib/python3.6/dist-packages (from catboost) (1.4.1)\n",
            "Requirement already satisfied: pandas>=0.24.0 in /usr/local/lib/python3.6/dist-packages (from catboost) (1.0.5)\n",
            "Requirement already satisfied: numpy>=1.16.0 in /usr/local/lib/python3.6/dist-packages (from catboost) (1.18.5)\n",
            "Requirement already satisfied: six in /usr/local/lib/python3.6/dist-packages (from catboost) (1.12.0)\n",
            "Requirement already satisfied: plotly in /usr/local/lib/python3.6/dist-packages (from catboost) (4.4.1)\n",
            "Requirement already satisfied: matplotlib in /usr/local/lib/python3.6/dist-packages (from catboost) (3.2.2)\n",
            "Requirement already satisfied: python-dateutil>=2.6.1 in /usr/local/lib/python3.6/dist-packages (from pandas>=0.24.0->catboost) (2.8.1)\n",
            "Requirement already satisfied: pytz>=2017.2 in /usr/local/lib/python3.6/dist-packages (from pandas>=0.24.0->catboost) (2018.9)\n",
            "Requirement already satisfied: retrying>=1.3.3 in /usr/local/lib/python3.6/dist-packages (from plotly->catboost) (1.3.3)\n",
            "Requirement already satisfied: pyparsing!=2.0.4,!=2.1.2,!=2.1.6,>=2.0.1 in /usr/local/lib/python3.6/dist-packages (from matplotlib->catboost) (2.4.7)\n",
            "Requirement already satisfied: kiwisolver>=1.0.1 in /usr/local/lib/python3.6/dist-packages (from matplotlib->catboost) (1.2.0)\n",
            "Requirement already satisfied: cycler>=0.10 in /usr/local/lib/python3.6/dist-packages (from matplotlib->catboost) (0.10.0)\n"
          ],
          "name": "stdout"
        }
      ]
    },
    {
      "cell_type": "code",
      "metadata": {
        "id": "bwQ4LCzDVl89",
        "colab_type": "code",
        "colab": {}
      },
      "source": [
        ""
      ],
      "execution_count": null,
      "outputs": []
    }
  ]
}